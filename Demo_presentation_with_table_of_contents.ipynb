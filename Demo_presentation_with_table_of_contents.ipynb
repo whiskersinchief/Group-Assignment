{
 "cells": [
  {
   "cell_type": "markdown",
   "metadata": {},
   "source": [
    "# Python Notebook Presentation for the Dataviz Module\n",
    "\n",
    "The following is a dummy example of the notebook presentation required for the Part A of the module. This gives a basic guide to the structure your presentation should take. "
   ]
  },
  {
   "cell_type": "markdown",
   "metadata": {},
   "source": [
    "## Table of Contents\n",
    "\n",
    "* [Data Wrangling](#data-wrangling)\n",
    "    * [Initial analysis of the data](#data-analysis)\n",
    "    * [Cleaning the data](#data-cleaning)\n",
    "* [Exploring the Data](#data-exploring)\n",
    "* [Presenting the Data](#data-presenting)\n",
    "    * [Selected static charts](#static-charts)\n",
    "    * [Plotly charts](#plotly-charts)\n",
    "* [Conclusion](#conclusion)"
   ]
  },
  {
   "cell_type": "markdown",
   "metadata": {},
   "source": [
    "For a large notebook, it's useful to have a table of contents. This can easily be achieved by using a hyperlink `a` tag placed by a Markdown section:\n",
    "\n",
    "```\n",
    "## Data Wrangling <a class=\"anchor\" id=\"data-wrangling\"></a>\n",
    "```\n",
    "\n",
    "You can link to this in the table of contents with an internal hyperlink:\n",
    "\n",
    "```\n",
    "* [Data Wrangling](#data-wrangling)\n",
    "```"
   ]
  },
  {
   "cell_type": "markdown",
   "metadata": {},
   "source": [
    "## Data Wrangling <a class=\"anchor\" id=\"data-wrangling\"></a>"
   ]
  },
  {
   "cell_type": "markdown",
   "metadata": {},
   "source": [
    "The first thing to do in any Jupyter notebook is import the main libraries we'll be using. Pandas and Matplotlib are the usal go-tos but the chart library seaborn adds some very useful specialized charts and, arguably, looks a lot better than Matplotlib's defaults. "
   ]
  },
  {
   "cell_type": "code",
   "execution_count": 2,
   "metadata": {},
   "outputs": [],
   "source": [
    "import pandas as pd\n",
    "import matplotlib.pyplot as plt\n",
    "import seaborn as sns"
   ]
  },
  {
   "cell_type": "markdown",
   "metadata": {},
   "source": [
    "Now we will load our Brexit dataset into a Pandas dataframe, reading it from a csv file. We also turn off Panda's default max_columns display option, which limits the columns shown on output - we want to be able to see them all. "
   ]
  },
  {
   "cell_type": "code",
   "execution_count": 3,
   "metadata": {},
   "outputs": [],
   "source": [
    "df = pd.read_csv(\"data/brexit_full.csv\")\n",
    "pd.options.display.max_columns = None"
   ]
  },
  {
   "cell_type": "markdown",
   "metadata": {},
   "source": [
    "### Initial analysis of the data <a class=\"anchor\" id=\"data-analysis\"></a>\n",
    "\n",
    "In this section you do a quick appraisal of the dataset, describing its basic structure and points of interest. What sort of data are we looking at - is it categorical, temporal, geographical etc.. What kind of questions does it suggest asking, what routes might we follow in our iterative exploration to come?"
   ]
  },
  {
   "cell_type": "markdown",
   "metadata": {},
   "source": [
    "Let's use the `head` method to look at the top five rows of our dataframe"
   ]
  },
  {
   "cell_type": "code",
   "execution_count": 4,
   "metadata": {
    "scrolled": true
   },
   "outputs": [
    {
     "data": {
      "text/html": [
       "<div>\n",
       "<style scoped>\n",
       "    .dataframe tbody tr th:only-of-type {\n",
       "        vertical-align: middle;\n",
       "    }\n",
       "\n",
       "    .dataframe tbody tr th {\n",
       "        vertical-align: top;\n",
       "    }\n",
       "\n",
       "    .dataframe thead th {\n",
       "        text-align: right;\n",
       "    }\n",
       "</style>\n",
       "<table border=\"1\" class=\"dataframe\">\n",
       "  <thead>\n",
       "    <tr style=\"text-align: right;\">\n",
       "      <th></th>\n",
       "      <th>Area_Code</th>\n",
       "      <th>Area</th>\n",
       "      <th>Region_Code</th>\n",
       "      <th>Region</th>\n",
       "      <th>Valid_Votes</th>\n",
       "      <th>Remain</th>\n",
       "      <th>Leave</th>\n",
       "      <th>Pct_Remain</th>\n",
       "      <th>Pct_Leave</th>\n",
       "      <th>Leave? (derived cell)</th>\n",
       "      <th>Urban / Rural</th>\n",
       "      <th>% degree educated and higher</th>\n",
       "      <th>% 18+ in FTE</th>\n",
       "      <th>% non-British</th>\n",
       "      <th>% identifying as white</th>\n",
       "      <th>% identifying as non-white (derived cell)</th>\n",
       "      <th>Median Age</th>\n",
       "      <th>% Unemployed</th>\n",
       "      <th>GVA 2015</th>\n",
       "      <th>Unnamed: 19</th>\n",
       "      <th>Unnamed: 20</th>\n",
       "      <th>Unnamed: 21</th>\n",
       "      <th>Unnamed: 22</th>\n",
       "    </tr>\n",
       "  </thead>\n",
       "  <tbody>\n",
       "    <tr>\n",
       "      <th>0</th>\n",
       "      <td>E06000001</td>\n",
       "      <td>Hartlepool</td>\n",
       "      <td>E12000001</td>\n",
       "      <td>North East</td>\n",
       "      <td>46100</td>\n",
       "      <td>14029</td>\n",
       "      <td>32071</td>\n",
       "      <td>30.43</td>\n",
       "      <td>69.57</td>\n",
       "      <td>Leave</td>\n",
       "      <td>Predominantly Urban</td>\n",
       "      <td>17.6</td>\n",
       "      <td>3.2</td>\n",
       "      <td>2.17%</td>\n",
       "      <td>97.6</td>\n",
       "      <td>2.4</td>\n",
       "      <td>41.8</td>\n",
       "      <td>4.7</td>\n",
       "      <td>15777</td>\n",
       "      <td>NaN</td>\n",
       "      <td>Rural local authorities</td>\n",
       "      <td>Leave</td>\n",
       "      <td>77.0</td>\n",
       "    </tr>\n",
       "    <tr>\n",
       "      <th>1</th>\n",
       "      <td>E06000002</td>\n",
       "      <td>Middlesbrough</td>\n",
       "      <td>E12000001</td>\n",
       "      <td>North East</td>\n",
       "      <td>61358</td>\n",
       "      <td>21181</td>\n",
       "      <td>40177</td>\n",
       "      <td>34.52</td>\n",
       "      <td>65.48</td>\n",
       "      <td>Leave</td>\n",
       "      <td>Predominantly Urban</td>\n",
       "      <td>18.5</td>\n",
       "      <td>7.6</td>\n",
       "      <td>7.19%</td>\n",
       "      <td>88.1</td>\n",
       "      <td>11.9</td>\n",
       "      <td>36.4</td>\n",
       "      <td>4.7</td>\n",
       "      <td>18540</td>\n",
       "      <td>NaN</td>\n",
       "      <td>NaN</td>\n",
       "      <td>Remain</td>\n",
       "      <td>14.0</td>\n",
       "    </tr>\n",
       "    <tr>\n",
       "      <th>2</th>\n",
       "      <td>E06000003</td>\n",
       "      <td>Redcar and Cleveland</td>\n",
       "      <td>E12000001</td>\n",
       "      <td>North East</td>\n",
       "      <td>72714</td>\n",
       "      <td>24586</td>\n",
       "      <td>48128</td>\n",
       "      <td>33.81</td>\n",
       "      <td>66.19</td>\n",
       "      <td>Leave</td>\n",
       "      <td>Urban with Significant Rural</td>\n",
       "      <td>18.9</td>\n",
       "      <td>3.0</td>\n",
       "      <td>0.75%</td>\n",
       "      <td>98.5</td>\n",
       "      <td>1.5</td>\n",
       "      <td>44.7</td>\n",
       "      <td>3.8</td>\n",
       "      <td>15188</td>\n",
       "      <td>NaN</td>\n",
       "      <td>Mixed local authorities</td>\n",
       "      <td>Leave</td>\n",
       "      <td>43.0</td>\n",
       "    </tr>\n",
       "    <tr>\n",
       "      <th>3</th>\n",
       "      <td>E06000004</td>\n",
       "      <td>Stockton-on-Tees</td>\n",
       "      <td>E12000001</td>\n",
       "      <td>North East</td>\n",
       "      <td>100415</td>\n",
       "      <td>38433</td>\n",
       "      <td>61982</td>\n",
       "      <td>38.27</td>\n",
       "      <td>61.73</td>\n",
       "      <td>Leave</td>\n",
       "      <td>Predominantly Urban</td>\n",
       "      <td>22.8</td>\n",
       "      <td>4.4</td>\n",
       "      <td>3.13%</td>\n",
       "      <td>94.5</td>\n",
       "      <td>5.5</td>\n",
       "      <td>40.3</td>\n",
       "      <td>3.1</td>\n",
       "      <td>20257</td>\n",
       "      <td>NaN</td>\n",
       "      <td>NaN</td>\n",
       "      <td>Remain</td>\n",
       "      <td>11.0</td>\n",
       "    </tr>\n",
       "    <tr>\n",
       "      <th>4</th>\n",
       "      <td>E06000005</td>\n",
       "      <td>Darlington</td>\n",
       "      <td>E12000001</td>\n",
       "      <td>North East</td>\n",
       "      <td>55166</td>\n",
       "      <td>24172</td>\n",
       "      <td>30994</td>\n",
       "      <td>43.82</td>\n",
       "      <td>56.18</td>\n",
       "      <td>Leave</td>\n",
       "      <td>Predominantly Urban</td>\n",
       "      <td>23.7</td>\n",
       "      <td>2.6</td>\n",
       "      <td>5.77%</td>\n",
       "      <td>95.9</td>\n",
       "      <td>4.1</td>\n",
       "      <td>42.7</td>\n",
       "      <td>3.1</td>\n",
       "      <td>24585</td>\n",
       "      <td>NaN</td>\n",
       "      <td>Urban local authorities</td>\n",
       "      <td>Leave</td>\n",
       "      <td>126.0</td>\n",
       "    </tr>\n",
       "  </tbody>\n",
       "</table>\n",
       "</div>"
      ],
      "text/plain": [
       "   Area_Code                  Area Region_Code      Region  Valid_Votes  \\\n",
       "0  E06000001            Hartlepool   E12000001  North East        46100   \n",
       "1  E06000002         Middlesbrough   E12000001  North East        61358   \n",
       "2  E06000003  Redcar and Cleveland   E12000001  North East        72714   \n",
       "3  E06000004      Stockton-on-Tees   E12000001  North East       100415   \n",
       "4  E06000005            Darlington   E12000001  North East        55166   \n",
       "\n",
       "   Remain  Leave  Pct_Remain  Pct_Leave Leave? (derived cell)  \\\n",
       "0   14029  32071       30.43      69.57                 Leave   \n",
       "1   21181  40177       34.52      65.48                 Leave   \n",
       "2   24586  48128       33.81      66.19                 Leave   \n",
       "3   38433  61982       38.27      61.73                 Leave   \n",
       "4   24172  30994       43.82      56.18                 Leave   \n",
       "\n",
       "                  Urban / Rural  % degree educated and higher  % 18+ in FTE  \\\n",
       "0           Predominantly Urban                          17.6           3.2   \n",
       "1           Predominantly Urban                          18.5           7.6   \n",
       "2  Urban with Significant Rural                          18.9           3.0   \n",
       "3           Predominantly Urban                          22.8           4.4   \n",
       "4           Predominantly Urban                          23.7           2.6   \n",
       "\n",
       "  % non-British  % identifying as white  \\\n",
       "0         2.17%                    97.6   \n",
       "1         7.19%                    88.1   \n",
       "2         0.75%                    98.5   \n",
       "3         3.13%                    94.5   \n",
       "4         5.77%                    95.9   \n",
       "\n",
       "   % identifying as non-white (derived cell)  Median Age  % Unemployed  \\\n",
       "0                                        2.4        41.8           4.7   \n",
       "1                                       11.9        36.4           4.7   \n",
       "2                                        1.5        44.7           3.8   \n",
       "3                                        5.5        40.3           3.1   \n",
       "4                                        4.1        42.7           3.1   \n",
       "\n",
       "   GVA 2015  Unnamed: 19              Unnamed: 20 Unnamed: 21  Unnamed: 22  \n",
       "0     15777          NaN  Rural local authorities       Leave         77.0  \n",
       "1     18540          NaN                      NaN      Remain         14.0  \n",
       "2     15188          NaN  Mixed local authorities       Leave         43.0  \n",
       "3     20257          NaN                      NaN      Remain         11.0  \n",
       "4     24585          NaN  Urban local authorities       Leave        126.0  "
      ]
     },
     "execution_count": 4,
     "metadata": {},
     "output_type": "execute_result"
    }
   ],
   "source": [
    "df.head()"
   ]
  },
  {
   "cell_type": "markdown",
   "metadata": {},
   "source": [
    "We're interested in comparing the different London boroughs so let's filter the dataframe for London regions and save that as as `df_london` dataframe"
   ]
  },
  {
   "cell_type": "code",
   "execution_count": 5,
   "metadata": {},
   "outputs": [],
   "source": [
    "df_london = df[df.Region == \"London\"].copy()"
   ]
  },
  {
   "cell_type": "code",
   "execution_count": 6,
   "metadata": {
    "scrolled": true
   },
   "outputs": [
    {
     "data": {
      "text/html": [
       "<div>\n",
       "<style scoped>\n",
       "    .dataframe tbody tr th:only-of-type {\n",
       "        vertical-align: middle;\n",
       "    }\n",
       "\n",
       "    .dataframe tbody tr th {\n",
       "        vertical-align: top;\n",
       "    }\n",
       "\n",
       "    .dataframe thead th {\n",
       "        text-align: right;\n",
       "    }\n",
       "</style>\n",
       "<table border=\"1\" class=\"dataframe\">\n",
       "  <thead>\n",
       "    <tr style=\"text-align: right;\">\n",
       "      <th></th>\n",
       "      <th>Area_Code</th>\n",
       "      <th>Area</th>\n",
       "      <th>Region_Code</th>\n",
       "      <th>Region</th>\n",
       "      <th>Valid_Votes</th>\n",
       "      <th>Remain</th>\n",
       "      <th>Leave</th>\n",
       "      <th>Pct_Remain</th>\n",
       "      <th>Pct_Leave</th>\n",
       "      <th>Leave? (derived cell)</th>\n",
       "      <th>Urban / Rural</th>\n",
       "      <th>% degree educated and higher</th>\n",
       "      <th>% 18+ in FTE</th>\n",
       "      <th>% non-British</th>\n",
       "      <th>% identifying as white</th>\n",
       "      <th>% identifying as non-white (derived cell)</th>\n",
       "      <th>Median Age</th>\n",
       "      <th>% Unemployed</th>\n",
       "      <th>GVA 2015</th>\n",
       "      <th>Unnamed: 19</th>\n",
       "      <th>Unnamed: 20</th>\n",
       "      <th>Unnamed: 21</th>\n",
       "      <th>Unnamed: 22</th>\n",
       "    </tr>\n",
       "  </thead>\n",
       "  <tbody>\n",
       "    <tr>\n",
       "      <th>293</th>\n",
       "      <td>E09000001</td>\n",
       "      <td>City of London</td>\n",
       "      <td>E12000007</td>\n",
       "      <td>London</td>\n",
       "      <td>4399</td>\n",
       "      <td>3312</td>\n",
       "      <td>1087</td>\n",
       "      <td>75.29</td>\n",
       "      <td>24.71</td>\n",
       "      <td>Remain</td>\n",
       "      <td>Predominantly Urban</td>\n",
       "      <td>68.4</td>\n",
       "      <td>6.2</td>\n",
       "      <td>32.93%</td>\n",
       "      <td>78.6</td>\n",
       "      <td>21.4</td>\n",
       "      <td>38.7</td>\n",
       "      <td>0.9</td>\n",
       "      <td>5333112</td>\n",
       "      <td>NaN</td>\n",
       "      <td>NaN</td>\n",
       "      <td>NaN</td>\n",
       "      <td>NaN</td>\n",
       "    </tr>\n",
       "    <tr>\n",
       "      <th>294</th>\n",
       "      <td>E09000002</td>\n",
       "      <td>Barking and Dagenham</td>\n",
       "      <td>E12000007</td>\n",
       "      <td>London</td>\n",
       "      <td>73880</td>\n",
       "      <td>27750</td>\n",
       "      <td>46130</td>\n",
       "      <td>37.56</td>\n",
       "      <td>62.44</td>\n",
       "      <td>Leave</td>\n",
       "      <td>Predominantly Urban</td>\n",
       "      <td>20.9</td>\n",
       "      <td>7.2</td>\n",
       "      <td>22.44%</td>\n",
       "      <td>58.2</td>\n",
       "      <td>41.8</td>\n",
       "      <td>32.1</td>\n",
       "      <td>2.5</td>\n",
       "      <td>16514</td>\n",
       "      <td>NaN</td>\n",
       "      <td>NaN</td>\n",
       "      <td>NaN</td>\n",
       "      <td>NaN</td>\n",
       "    </tr>\n",
       "    <tr>\n",
       "      <th>295</th>\n",
       "      <td>E09000003</td>\n",
       "      <td>Barnet</td>\n",
       "      <td>E12000007</td>\n",
       "      <td>London</td>\n",
       "      <td>161033</td>\n",
       "      <td>100210</td>\n",
       "      <td>60823</td>\n",
       "      <td>62.23</td>\n",
       "      <td>37.77</td>\n",
       "      <td>Remain</td>\n",
       "      <td>Predominantly Urban</td>\n",
       "      <td>40.3</td>\n",
       "      <td>7.3</td>\n",
       "      <td>23.36%</td>\n",
       "      <td>64.1</td>\n",
       "      <td>35.9</td>\n",
       "      <td>36.3</td>\n",
       "      <td>1.5</td>\n",
       "      <td>24760</td>\n",
       "      <td>NaN</td>\n",
       "      <td>NaN</td>\n",
       "      <td>NaN</td>\n",
       "      <td>NaN</td>\n",
       "    </tr>\n",
       "    <tr>\n",
       "      <th>296</th>\n",
       "      <td>E09000004</td>\n",
       "      <td>Bexley</td>\n",
       "      <td>E12000007</td>\n",
       "      <td>London</td>\n",
       "      <td>128489</td>\n",
       "      <td>47603</td>\n",
       "      <td>80886</td>\n",
       "      <td>37.05</td>\n",
       "      <td>62.95</td>\n",
       "      <td>Leave</td>\n",
       "      <td>Predominantly Urban</td>\n",
       "      <td>21.8</td>\n",
       "      <td>4.5</td>\n",
       "      <td>11.16%</td>\n",
       "      <td>81.6</td>\n",
       "      <td>18.4</td>\n",
       "      <td>38.6</td>\n",
       "      <td>1.3</td>\n",
       "      <td>21255</td>\n",
       "      <td>NaN</td>\n",
       "      <td>NaN</td>\n",
       "      <td>NaN</td>\n",
       "      <td>NaN</td>\n",
       "    </tr>\n",
       "    <tr>\n",
       "      <th>297</th>\n",
       "      <td>E09000005</td>\n",
       "      <td>Brent</td>\n",
       "      <td>E12000007</td>\n",
       "      <td>London</td>\n",
       "      <td>121404</td>\n",
       "      <td>72523</td>\n",
       "      <td>48881</td>\n",
       "      <td>59.74</td>\n",
       "      <td>40.26</td>\n",
       "      <td>Remain</td>\n",
       "      <td>Predominantly Urban</td>\n",
       "      <td>33.3</td>\n",
       "      <td>9.1</td>\n",
       "      <td>32.00%</td>\n",
       "      <td>36.2</td>\n",
       "      <td>63.8</td>\n",
       "      <td>34.6</td>\n",
       "      <td>2.3</td>\n",
       "      <td>24630</td>\n",
       "      <td>NaN</td>\n",
       "      <td>NaN</td>\n",
       "      <td>NaN</td>\n",
       "      <td>NaN</td>\n",
       "    </tr>\n",
       "    <tr>\n",
       "      <th>298</th>\n",
       "      <td>E09000006</td>\n",
       "      <td>Bromley</td>\n",
       "      <td>E12000007</td>\n",
       "      <td>London</td>\n",
       "      <td>182432</td>\n",
       "      <td>92398</td>\n",
       "      <td>90034</td>\n",
       "      <td>50.65</td>\n",
       "      <td>49.35</td>\n",
       "      <td>Remain</td>\n",
       "      <td>Predominantly Urban</td>\n",
       "      <td>33.1</td>\n",
       "      <td>3.4</td>\n",
       "      <td>12.04%</td>\n",
       "      <td>84.1</td>\n",
       "      <td>15.9</td>\n",
       "      <td>40.5</td>\n",
       "      <td>1.0</td>\n",
       "      <td>21907</td>\n",
       "      <td>NaN</td>\n",
       "      <td>NaN</td>\n",
       "      <td>NaN</td>\n",
       "      <td>NaN</td>\n",
       "    </tr>\n",
       "    <tr>\n",
       "      <th>299</th>\n",
       "      <td>E09000007</td>\n",
       "      <td>Camden</td>\n",
       "      <td>E12000007</td>\n",
       "      <td>London</td>\n",
       "      <td>95133</td>\n",
       "      <td>71295</td>\n",
       "      <td>23838</td>\n",
       "      <td>74.94</td>\n",
       "      <td>25.06</td>\n",
       "      <td>Remain</td>\n",
       "      <td>Predominantly Urban</td>\n",
       "      <td>50.5</td>\n",
       "      <td>13.6</td>\n",
       "      <td>23.97%</td>\n",
       "      <td>66.2</td>\n",
       "      <td>33.8</td>\n",
       "      <td>34.0</td>\n",
       "      <td>1.6</td>\n",
       "      <td>109694</td>\n",
       "      <td>NaN</td>\n",
       "      <td>NaN</td>\n",
       "      <td>NaN</td>\n",
       "      <td>NaN</td>\n",
       "    </tr>\n",
       "    <tr>\n",
       "      <th>300</th>\n",
       "      <td>E09000008</td>\n",
       "      <td>Croydon</td>\n",
       "      <td>E12000007</td>\n",
       "      <td>London</td>\n",
       "      <td>171134</td>\n",
       "      <td>92913</td>\n",
       "      <td>78221</td>\n",
       "      <td>54.29</td>\n",
       "      <td>45.71</td>\n",
       "      <td>Remain</td>\n",
       "      <td>Predominantly Urban</td>\n",
       "      <td>31.8</td>\n",
       "      <td>5.9</td>\n",
       "      <td>18.21%</td>\n",
       "      <td>55.0</td>\n",
       "      <td>45.0</td>\n",
       "      <td>36.8</td>\n",
       "      <td>1.6</td>\n",
       "      <td>19481</td>\n",
       "      <td>NaN</td>\n",
       "      <td>NaN</td>\n",
       "      <td>NaN</td>\n",
       "      <td>NaN</td>\n",
       "    </tr>\n",
       "    <tr>\n",
       "      <th>301</th>\n",
       "      <td>E09000009</td>\n",
       "      <td>Ealing</td>\n",
       "      <td>E12000007</td>\n",
       "      <td>London</td>\n",
       "      <td>149041</td>\n",
       "      <td>90024</td>\n",
       "      <td>59017</td>\n",
       "      <td>60.40</td>\n",
       "      <td>39.60</td>\n",
       "      <td>Remain</td>\n",
       "      <td>Predominantly Urban</td>\n",
       "      <td>37.0</td>\n",
       "      <td>7.6</td>\n",
       "      <td>32.94%</td>\n",
       "      <td>48.9</td>\n",
       "      <td>51.1</td>\n",
       "      <td>35.9</td>\n",
       "      <td>2.2</td>\n",
       "      <td>26465</td>\n",
       "      <td>NaN</td>\n",
       "      <td>NaN</td>\n",
       "      <td>NaN</td>\n",
       "      <td>NaN</td>\n",
       "    </tr>\n",
       "    <tr>\n",
       "      <th>302</th>\n",
       "      <td>E09000010</td>\n",
       "      <td>Enfield</td>\n",
       "      <td>E12000007</td>\n",
       "      <td>London</td>\n",
       "      <td>136906</td>\n",
       "      <td>76425</td>\n",
       "      <td>60481</td>\n",
       "      <td>55.82</td>\n",
       "      <td>44.18</td>\n",
       "      <td>Remain</td>\n",
       "      <td>Predominantly Urban</td>\n",
       "      <td>28.7</td>\n",
       "      <td>7.0</td>\n",
       "      <td>19.45%</td>\n",
       "      <td>60.9</td>\n",
       "      <td>39.1</td>\n",
       "      <td>35.5</td>\n",
       "      <td>2.2</td>\n",
       "      <td>20091</td>\n",
       "      <td>NaN</td>\n",
       "      <td>NaN</td>\n",
       "      <td>NaN</td>\n",
       "      <td>NaN</td>\n",
       "    </tr>\n",
       "    <tr>\n",
       "      <th>303</th>\n",
       "      <td>E09000011</td>\n",
       "      <td>Greenwich</td>\n",
       "      <td>E12000007</td>\n",
       "      <td>London</td>\n",
       "      <td>117365</td>\n",
       "      <td>65248</td>\n",
       "      <td>52117</td>\n",
       "      <td>55.59</td>\n",
       "      <td>44.41</td>\n",
       "      <td>Remain</td>\n",
       "      <td>Predominantly Urban</td>\n",
       "      <td>33.2</td>\n",
       "      <td>8.8</td>\n",
       "      <td>24.82%</td>\n",
       "      <td>62.3</td>\n",
       "      <td>37.7</td>\n",
       "      <td>34.2</td>\n",
       "      <td>2.2</td>\n",
       "      <td>16890</td>\n",
       "      <td>NaN</td>\n",
       "      <td>NaN</td>\n",
       "      <td>NaN</td>\n",
       "      <td>NaN</td>\n",
       "    </tr>\n",
       "    <tr>\n",
       "      <th>304</th>\n",
       "      <td>E09000012</td>\n",
       "      <td>Hackney</td>\n",
       "      <td>E12000007</td>\n",
       "      <td>London</td>\n",
       "      <td>106266</td>\n",
       "      <td>83398</td>\n",
       "      <td>22868</td>\n",
       "      <td>78.48</td>\n",
       "      <td>21.52</td>\n",
       "      <td>Remain</td>\n",
       "      <td>Predominantly Urban</td>\n",
       "      <td>41.8</td>\n",
       "      <td>9.0</td>\n",
       "      <td>24.07%</td>\n",
       "      <td>54.5</td>\n",
       "      <td>45.5</td>\n",
       "      <td>32.3</td>\n",
       "      <td>2.6</td>\n",
       "      <td>26970</td>\n",
       "      <td>NaN</td>\n",
       "      <td>NaN</td>\n",
       "      <td>NaN</td>\n",
       "      <td>NaN</td>\n",
       "    </tr>\n",
       "    <tr>\n",
       "      <th>305</th>\n",
       "      <td>E09000013</td>\n",
       "      <td>Hammersmith and Fulham</td>\n",
       "      <td>E12000007</td>\n",
       "      <td>London</td>\n",
       "      <td>80242</td>\n",
       "      <td>56188</td>\n",
       "      <td>24054</td>\n",
       "      <td>70.02</td>\n",
       "      <td>29.98</td>\n",
       "      <td>Remain</td>\n",
       "      <td>Predominantly Urban</td>\n",
       "      <td>49.6</td>\n",
       "      <td>9.0</td>\n",
       "      <td>27.93%</td>\n",
       "      <td>68.0</td>\n",
       "      <td>32.0</td>\n",
       "      <td>34.5</td>\n",
       "      <td>2.3</td>\n",
       "      <td>55434</td>\n",
       "      <td>NaN</td>\n",
       "      <td>NaN</td>\n",
       "      <td>NaN</td>\n",
       "      <td>NaN</td>\n",
       "    </tr>\n",
       "    <tr>\n",
       "      <th>306</th>\n",
       "      <td>E09000014</td>\n",
       "      <td>Haringey</td>\n",
       "      <td>E12000007</td>\n",
       "      <td>London</td>\n",
       "      <td>105846</td>\n",
       "      <td>79991</td>\n",
       "      <td>25855</td>\n",
       "      <td>75.57</td>\n",
       "      <td>24.43</td>\n",
       "      <td>Remain</td>\n",
       "      <td>Predominantly Urban</td>\n",
       "      <td>40.8</td>\n",
       "      <td>8.5</td>\n",
       "      <td>27.47%</td>\n",
       "      <td>60.4</td>\n",
       "      <td>39.6</td>\n",
       "      <td>34.2</td>\n",
       "      <td>2.5</td>\n",
       "      <td>21212</td>\n",
       "      <td>NaN</td>\n",
       "      <td>NaN</td>\n",
       "      <td>NaN</td>\n",
       "      <td>NaN</td>\n",
       "    </tr>\n",
       "    <tr>\n",
       "      <th>307</th>\n",
       "      <td>E09000015</td>\n",
       "      <td>Harrow</td>\n",
       "      <td>E12000007</td>\n",
       "      <td>London</td>\n",
       "      <td>117225</td>\n",
       "      <td>64042</td>\n",
       "      <td>53183</td>\n",
       "      <td>54.63</td>\n",
       "      <td>45.37</td>\n",
       "      <td>Remain</td>\n",
       "      <td>Predominantly Urban</td>\n",
       "      <td>36.8</td>\n",
       "      <td>6.8</td>\n",
       "      <td>29.55%</td>\n",
       "      <td>42.2</td>\n",
       "      <td>57.8</td>\n",
       "      <td>37.4</td>\n",
       "      <td>1.2</td>\n",
       "      <td>22155</td>\n",
       "      <td>NaN</td>\n",
       "      <td>NaN</td>\n",
       "      <td>NaN</td>\n",
       "      <td>NaN</td>\n",
       "    </tr>\n",
       "    <tr>\n",
       "      <th>308</th>\n",
       "      <td>E09000016</td>\n",
       "      <td>Havering</td>\n",
       "      <td>E12000007</td>\n",
       "      <td>London</td>\n",
       "      <td>139086</td>\n",
       "      <td>42201</td>\n",
       "      <td>96885</td>\n",
       "      <td>30.34</td>\n",
       "      <td>69.66</td>\n",
       "      <td>Leave</td>\n",
       "      <td>Predominantly Urban</td>\n",
       "      <td>19.4</td>\n",
       "      <td>3.4</td>\n",
       "      <td>6.43%</td>\n",
       "      <td>87.6</td>\n",
       "      <td>12.4</td>\n",
       "      <td>39.7</td>\n",
       "      <td>1.5</td>\n",
       "      <td>20311</td>\n",
       "      <td>NaN</td>\n",
       "      <td>NaN</td>\n",
       "      <td>NaN</td>\n",
       "      <td>NaN</td>\n",
       "    </tr>\n",
       "    <tr>\n",
       "      <th>309</th>\n",
       "      <td>E09000017</td>\n",
       "      <td>Hillingdon</td>\n",
       "      <td>E12000007</td>\n",
       "      <td>London</td>\n",
       "      <td>133022</td>\n",
       "      <td>58040</td>\n",
       "      <td>74982</td>\n",
       "      <td>43.63</td>\n",
       "      <td>56.37</td>\n",
       "      <td>Leave</td>\n",
       "      <td>Predominantly Urban</td>\n",
       "      <td>28.0</td>\n",
       "      <td>8.9</td>\n",
       "      <td>18.46%</td>\n",
       "      <td>60.5</td>\n",
       "      <td>39.5</td>\n",
       "      <td>35.3</td>\n",
       "      <td>1.4</td>\n",
       "      <td>41306</td>\n",
       "      <td>NaN</td>\n",
       "      <td>NaN</td>\n",
       "      <td>NaN</td>\n",
       "      <td>NaN</td>\n",
       "    </tr>\n",
       "    <tr>\n",
       "      <th>310</th>\n",
       "      <td>E09000018</td>\n",
       "      <td>Hounslow</td>\n",
       "      <td>E12000007</td>\n",
       "      <td>London</td>\n",
       "      <td>115076</td>\n",
       "      <td>58755</td>\n",
       "      <td>56321</td>\n",
       "      <td>51.06</td>\n",
       "      <td>48.94</td>\n",
       "      <td>Remain</td>\n",
       "      <td>Predominantly Urban</td>\n",
       "      <td>34.6</td>\n",
       "      <td>7.4</td>\n",
       "      <td>27.31%</td>\n",
       "      <td>51.3</td>\n",
       "      <td>48.7</td>\n",
       "      <td>35.2</td>\n",
       "      <td>1.0</td>\n",
       "      <td>39219</td>\n",
       "      <td>NaN</td>\n",
       "      <td>NaN</td>\n",
       "      <td>NaN</td>\n",
       "      <td>NaN</td>\n",
       "    </tr>\n",
       "    <tr>\n",
       "      <th>311</th>\n",
       "      <td>E09000019</td>\n",
       "      <td>Islington</td>\n",
       "      <td>E12000007</td>\n",
       "      <td>London</td>\n",
       "      <td>101600</td>\n",
       "      <td>76420</td>\n",
       "      <td>25180</td>\n",
       "      <td>75.22</td>\n",
       "      <td>24.78</td>\n",
       "      <td>Remain</td>\n",
       "      <td>Predominantly Urban</td>\n",
       "      <td>48.1</td>\n",
       "      <td>10.7</td>\n",
       "      <td>23.35%</td>\n",
       "      <td>68.1</td>\n",
       "      <td>31.9</td>\n",
       "      <td>32.0</td>\n",
       "      <td>2.1</td>\n",
       "      <td>74851</td>\n",
       "      <td>NaN</td>\n",
       "      <td>NaN</td>\n",
       "      <td>NaN</td>\n",
       "      <td>NaN</td>\n",
       "    </tr>\n",
       "    <tr>\n",
       "      <th>312</th>\n",
       "      <td>E09000020</td>\n",
       "      <td>Kensington and Chelsea</td>\n",
       "      <td>E12000007</td>\n",
       "      <td>London</td>\n",
       "      <td>54739</td>\n",
       "      <td>37601</td>\n",
       "      <td>17138</td>\n",
       "      <td>68.69</td>\n",
       "      <td>31.31</td>\n",
       "      <td>Remain</td>\n",
       "      <td>Predominantly Urban</td>\n",
       "      <td>52.7</td>\n",
       "      <td>8.3</td>\n",
       "      <td>39.10%</td>\n",
       "      <td>70.5</td>\n",
       "      <td>29.5</td>\n",
       "      <td>38.5</td>\n",
       "      <td>1.4</td>\n",
       "      <td>70390</td>\n",
       "      <td>NaN</td>\n",
       "      <td>NaN</td>\n",
       "      <td>NaN</td>\n",
       "      <td>NaN</td>\n",
       "    </tr>\n",
       "    <tr>\n",
       "      <th>313</th>\n",
       "      <td>E09000021</td>\n",
       "      <td>Kingston upon Thames</td>\n",
       "      <td>E12000007</td>\n",
       "      <td>London</td>\n",
       "      <td>85270</td>\n",
       "      <td>52533</td>\n",
       "      <td>32737</td>\n",
       "      <td>61.61</td>\n",
       "      <td>38.39</td>\n",
       "      <td>Remain</td>\n",
       "      <td>Predominantly Urban</td>\n",
       "      <td>41.4</td>\n",
       "      <td>10.2</td>\n",
       "      <td>17.24%</td>\n",
       "      <td>74.4</td>\n",
       "      <td>25.6</td>\n",
       "      <td>36.2</td>\n",
       "      <td>1.0</td>\n",
       "      <td>27809</td>\n",
       "      <td>NaN</td>\n",
       "      <td>NaN</td>\n",
       "      <td>NaN</td>\n",
       "      <td>NaN</td>\n",
       "    </tr>\n",
       "    <tr>\n",
       "      <th>314</th>\n",
       "      <td>E09000022</td>\n",
       "      <td>Lambeth</td>\n",
       "      <td>E12000007</td>\n",
       "      <td>London</td>\n",
       "      <td>141924</td>\n",
       "      <td>111584</td>\n",
       "      <td>30340</td>\n",
       "      <td>78.62</td>\n",
       "      <td>21.38</td>\n",
       "      <td>Remain</td>\n",
       "      <td>Predominantly Urban</td>\n",
       "      <td>46.6</td>\n",
       "      <td>7.7</td>\n",
       "      <td>22.29%</td>\n",
       "      <td>57.0</td>\n",
       "      <td>43.0</td>\n",
       "      <td>32.6</td>\n",
       "      <td>2.5</td>\n",
       "      <td>34723</td>\n",
       "      <td>NaN</td>\n",
       "      <td>NaN</td>\n",
       "      <td>NaN</td>\n",
       "      <td>NaN</td>\n",
       "    </tr>\n",
       "    <tr>\n",
       "      <th>315</th>\n",
       "      <td>E09000023</td>\n",
       "      <td>Lewisham</td>\n",
       "      <td>E12000007</td>\n",
       "      <td>London</td>\n",
       "      <td>124473</td>\n",
       "      <td>86955</td>\n",
       "      <td>37518</td>\n",
       "      <td>69.86</td>\n",
       "      <td>30.14</td>\n",
       "      <td>Remain</td>\n",
       "      <td>Predominantly Urban</td>\n",
       "      <td>38.0</td>\n",
       "      <td>8.5</td>\n",
       "      <td>22.48%</td>\n",
       "      <td>53.5</td>\n",
       "      <td>46.5</td>\n",
       "      <td>34.4</td>\n",
       "      <td>2.5</td>\n",
       "      <td>16511</td>\n",
       "      <td>NaN</td>\n",
       "      <td>NaN</td>\n",
       "      <td>NaN</td>\n",
       "      <td>NaN</td>\n",
       "    </tr>\n",
       "    <tr>\n",
       "      <th>316</th>\n",
       "      <td>E09000024</td>\n",
       "      <td>Merton</td>\n",
       "      <td>E12000007</td>\n",
       "      <td>London</td>\n",
       "      <td>100100</td>\n",
       "      <td>63003</td>\n",
       "      <td>37097</td>\n",
       "      <td>62.94</td>\n",
       "      <td>37.06</td>\n",
       "      <td>Remain</td>\n",
       "      <td>Predominantly Urban</td>\n",
       "      <td>41.1</td>\n",
       "      <td>6.0</td>\n",
       "      <td>27.80%</td>\n",
       "      <td>64.8</td>\n",
       "      <td>35.2</td>\n",
       "      <td>36.3</td>\n",
       "      <td>1.4</td>\n",
       "      <td>24651</td>\n",
       "      <td>NaN</td>\n",
       "      <td>NaN</td>\n",
       "      <td>NaN</td>\n",
       "      <td>NaN</td>\n",
       "    </tr>\n",
       "    <tr>\n",
       "      <th>317</th>\n",
       "      <td>E09000025</td>\n",
       "      <td>Newham</td>\n",
       "      <td>E12000007</td>\n",
       "      <td>London</td>\n",
       "      <td>104699</td>\n",
       "      <td>55328</td>\n",
       "      <td>49371</td>\n",
       "      <td>52.84</td>\n",
       "      <td>47.16</td>\n",
       "      <td>Remain</td>\n",
       "      <td>Predominantly Urban</td>\n",
       "      <td>30.1</td>\n",
       "      <td>14.9</td>\n",
       "      <td>34.93%</td>\n",
       "      <td>28.8</td>\n",
       "      <td>71.2</td>\n",
       "      <td>31.1</td>\n",
       "      <td>1.9</td>\n",
       "      <td>19524</td>\n",
       "      <td>NaN</td>\n",
       "      <td>NaN</td>\n",
       "      <td>NaN</td>\n",
       "      <td>NaN</td>\n",
       "    </tr>\n",
       "    <tr>\n",
       "      <th>318</th>\n",
       "      <td>E09000026</td>\n",
       "      <td>Redbridge</td>\n",
       "      <td>E12000007</td>\n",
       "      <td>London</td>\n",
       "      <td>128233</td>\n",
       "      <td>69213</td>\n",
       "      <td>59020</td>\n",
       "      <td>53.97</td>\n",
       "      <td>46.03</td>\n",
       "      <td>Remain</td>\n",
       "      <td>Predominantly Urban</td>\n",
       "      <td>33.9</td>\n",
       "      <td>7.6</td>\n",
       "      <td>21.48%</td>\n",
       "      <td>42.5</td>\n",
       "      <td>57.5</td>\n",
       "      <td>34.9</td>\n",
       "      <td>1.3</td>\n",
       "      <td>17274</td>\n",
       "      <td>NaN</td>\n",
       "      <td>NaN</td>\n",
       "      <td>NaN</td>\n",
       "      <td>NaN</td>\n",
       "    </tr>\n",
       "    <tr>\n",
       "      <th>319</th>\n",
       "      <td>E09000027</td>\n",
       "      <td>Richmond upon Thames</td>\n",
       "      <td>E12000007</td>\n",
       "      <td>London</td>\n",
       "      <td>108806</td>\n",
       "      <td>75396</td>\n",
       "      <td>33410</td>\n",
       "      <td>69.29</td>\n",
       "      <td>30.71</td>\n",
       "      <td>Remain</td>\n",
       "      <td>Predominantly Urban</td>\n",
       "      <td>53.0</td>\n",
       "      <td>4.9</td>\n",
       "      <td>15.31%</td>\n",
       "      <td>85.9</td>\n",
       "      <td>14.1</td>\n",
       "      <td>39.9</td>\n",
       "      <td>1.0</td>\n",
       "      <td>34145</td>\n",
       "      <td>NaN</td>\n",
       "      <td>NaN</td>\n",
       "      <td>NaN</td>\n",
       "      <td>NaN</td>\n",
       "    </tr>\n",
       "    <tr>\n",
       "      <th>320</th>\n",
       "      <td>E09000028</td>\n",
       "      <td>Southwark</td>\n",
       "      <td>E12000007</td>\n",
       "      <td>London</td>\n",
       "      <td>129502</td>\n",
       "      <td>94293</td>\n",
       "      <td>35209</td>\n",
       "      <td>72.81</td>\n",
       "      <td>27.19</td>\n",
       "      <td>Remain</td>\n",
       "      <td>Predominantly Urban</td>\n",
       "      <td>43.1</td>\n",
       "      <td>11.5</td>\n",
       "      <td>26.45%</td>\n",
       "      <td>54.1</td>\n",
       "      <td>45.9</td>\n",
       "      <td>32.9</td>\n",
       "      <td>2.0</td>\n",
       "      <td>48349</td>\n",
       "      <td>NaN</td>\n",
       "      <td>NaN</td>\n",
       "      <td>NaN</td>\n",
       "      <td>NaN</td>\n",
       "    </tr>\n",
       "    <tr>\n",
       "      <th>321</th>\n",
       "      <td>E09000029</td>\n",
       "      <td>Sutton</td>\n",
       "      <td>E12000007</td>\n",
       "      <td>London</td>\n",
       "      <td>106560</td>\n",
       "      <td>49319</td>\n",
       "      <td>57241</td>\n",
       "      <td>46.28</td>\n",
       "      <td>53.72</td>\n",
       "      <td>Leave</td>\n",
       "      <td>Predominantly Urban</td>\n",
       "      <td>30.1</td>\n",
       "      <td>3.7</td>\n",
       "      <td>15.50%</td>\n",
       "      <td>78.5</td>\n",
       "      <td>21.5</td>\n",
       "      <td>38.8</td>\n",
       "      <td>0.6</td>\n",
       "      <td>21049</td>\n",
       "      <td>NaN</td>\n",
       "      <td>NaN</td>\n",
       "      <td>NaN</td>\n",
       "      <td>NaN</td>\n",
       "    </tr>\n",
       "    <tr>\n",
       "      <th>322</th>\n",
       "      <td>E09000030</td>\n",
       "      <td>Tower Hamlets</td>\n",
       "      <td>E12000007</td>\n",
       "      <td>London</td>\n",
       "      <td>108235</td>\n",
       "      <td>73011</td>\n",
       "      <td>35224</td>\n",
       "      <td>67.46</td>\n",
       "      <td>32.54</td>\n",
       "      <td>Remain</td>\n",
       "      <td>Predominantly Urban</td>\n",
       "      <td>41.0</td>\n",
       "      <td>12.1</td>\n",
       "      <td>22.82%</td>\n",
       "      <td>45.1</td>\n",
       "      <td>54.9</td>\n",
       "      <td>30.6</td>\n",
       "      <td>2.3</td>\n",
       "      <td>98134</td>\n",
       "      <td>NaN</td>\n",
       "      <td>NaN</td>\n",
       "      <td>NaN</td>\n",
       "      <td>NaN</td>\n",
       "    </tr>\n",
       "    <tr>\n",
       "      <th>323</th>\n",
       "      <td>E09000031</td>\n",
       "      <td>Waltham Forest</td>\n",
       "      <td>E12000007</td>\n",
       "      <td>London</td>\n",
       "      <td>108551</td>\n",
       "      <td>64156</td>\n",
       "      <td>44395</td>\n",
       "      <td>59.10</td>\n",
       "      <td>40.90</td>\n",
       "      <td>Remain</td>\n",
       "      <td>Predominantly Urban</td>\n",
       "      <td>30.0</td>\n",
       "      <td>8.3</td>\n",
       "      <td>25.74%</td>\n",
       "      <td>52.1</td>\n",
       "      <td>47.9</td>\n",
       "      <td>34.2</td>\n",
       "      <td>2.3</td>\n",
       "      <td>16812</td>\n",
       "      <td>NaN</td>\n",
       "      <td>NaN</td>\n",
       "      <td>NaN</td>\n",
       "      <td>NaN</td>\n",
       "    </tr>\n",
       "    <tr>\n",
       "      <th>324</th>\n",
       "      <td>E09000032</td>\n",
       "      <td>Wandsworth</td>\n",
       "      <td>E12000007</td>\n",
       "      <td>London</td>\n",
       "      <td>157884</td>\n",
       "      <td>118463</td>\n",
       "      <td>39421</td>\n",
       "      <td>75.03</td>\n",
       "      <td>24.97</td>\n",
       "      <td>Remain</td>\n",
       "      <td>Predominantly Urban</td>\n",
       "      <td>53.6</td>\n",
       "      <td>6.8</td>\n",
       "      <td>25.80%</td>\n",
       "      <td>71.4</td>\n",
       "      <td>28.6</td>\n",
       "      <td>33.5</td>\n",
       "      <td>1.4</td>\n",
       "      <td>30216</td>\n",
       "      <td>NaN</td>\n",
       "      <td>NaN</td>\n",
       "      <td>NaN</td>\n",
       "      <td>NaN</td>\n",
       "    </tr>\n",
       "    <tr>\n",
       "      <th>325</th>\n",
       "      <td>E09000033</td>\n",
       "      <td>Westminster</td>\n",
       "      <td>E12000007</td>\n",
       "      <td>London</td>\n",
       "      <td>78196</td>\n",
       "      <td>53928</td>\n",
       "      <td>24268</td>\n",
       "      <td>68.97</td>\n",
       "      <td>31.03</td>\n",
       "      <td>Remain</td>\n",
       "      <td>Predominantly Urban</td>\n",
       "      <td>50.3</td>\n",
       "      <td>10.0</td>\n",
       "      <td>32.93%</td>\n",
       "      <td>61.6</td>\n",
       "      <td>38.4</td>\n",
       "      <td>35.5</td>\n",
       "      <td>1.5</td>\n",
       "      <td>221103</td>\n",
       "      <td>NaN</td>\n",
       "      <td>NaN</td>\n",
       "      <td>NaN</td>\n",
       "      <td>NaN</td>\n",
       "    </tr>\n",
       "  </tbody>\n",
       "</table>\n",
       "</div>"
      ],
      "text/plain": [
       "     Area_Code                    Area Region_Code  Region  Valid_Votes  \\\n",
       "293  E09000001          City of London   E12000007  London         4399   \n",
       "294  E09000002    Barking and Dagenham   E12000007  London        73880   \n",
       "295  E09000003                  Barnet   E12000007  London       161033   \n",
       "296  E09000004                  Bexley   E12000007  London       128489   \n",
       "297  E09000005                   Brent   E12000007  London       121404   \n",
       "298  E09000006                 Bromley   E12000007  London       182432   \n",
       "299  E09000007                  Camden   E12000007  London        95133   \n",
       "300  E09000008                 Croydon   E12000007  London       171134   \n",
       "301  E09000009                  Ealing   E12000007  London       149041   \n",
       "302  E09000010                 Enfield   E12000007  London       136906   \n",
       "303  E09000011               Greenwich   E12000007  London       117365   \n",
       "304  E09000012                 Hackney   E12000007  London       106266   \n",
       "305  E09000013  Hammersmith and Fulham   E12000007  London        80242   \n",
       "306  E09000014                Haringey   E12000007  London       105846   \n",
       "307  E09000015                  Harrow   E12000007  London       117225   \n",
       "308  E09000016                Havering   E12000007  London       139086   \n",
       "309  E09000017              Hillingdon   E12000007  London       133022   \n",
       "310  E09000018                Hounslow   E12000007  London       115076   \n",
       "311  E09000019               Islington   E12000007  London       101600   \n",
       "312  E09000020  Kensington and Chelsea   E12000007  London        54739   \n",
       "313  E09000021    Kingston upon Thames   E12000007  London        85270   \n",
       "314  E09000022                 Lambeth   E12000007  London       141924   \n",
       "315  E09000023                Lewisham   E12000007  London       124473   \n",
       "316  E09000024                  Merton   E12000007  London       100100   \n",
       "317  E09000025                  Newham   E12000007  London       104699   \n",
       "318  E09000026               Redbridge   E12000007  London       128233   \n",
       "319  E09000027    Richmond upon Thames   E12000007  London       108806   \n",
       "320  E09000028               Southwark   E12000007  London       129502   \n",
       "321  E09000029                  Sutton   E12000007  London       106560   \n",
       "322  E09000030           Tower Hamlets   E12000007  London       108235   \n",
       "323  E09000031          Waltham Forest   E12000007  London       108551   \n",
       "324  E09000032              Wandsworth   E12000007  London       157884   \n",
       "325  E09000033             Westminster   E12000007  London        78196   \n",
       "\n",
       "     Remain  Leave  Pct_Remain  Pct_Leave Leave? (derived cell)  \\\n",
       "293    3312   1087       75.29      24.71                Remain   \n",
       "294   27750  46130       37.56      62.44                 Leave   \n",
       "295  100210  60823       62.23      37.77                Remain   \n",
       "296   47603  80886       37.05      62.95                 Leave   \n",
       "297   72523  48881       59.74      40.26                Remain   \n",
       "298   92398  90034       50.65      49.35                Remain   \n",
       "299   71295  23838       74.94      25.06                Remain   \n",
       "300   92913  78221       54.29      45.71                Remain   \n",
       "301   90024  59017       60.40      39.60                Remain   \n",
       "302   76425  60481       55.82      44.18                Remain   \n",
       "303   65248  52117       55.59      44.41                Remain   \n",
       "304   83398  22868       78.48      21.52                Remain   \n",
       "305   56188  24054       70.02      29.98                Remain   \n",
       "306   79991  25855       75.57      24.43                Remain   \n",
       "307   64042  53183       54.63      45.37                Remain   \n",
       "308   42201  96885       30.34      69.66                 Leave   \n",
       "309   58040  74982       43.63      56.37                 Leave   \n",
       "310   58755  56321       51.06      48.94                Remain   \n",
       "311   76420  25180       75.22      24.78                Remain   \n",
       "312   37601  17138       68.69      31.31                Remain   \n",
       "313   52533  32737       61.61      38.39                Remain   \n",
       "314  111584  30340       78.62      21.38                Remain   \n",
       "315   86955  37518       69.86      30.14                Remain   \n",
       "316   63003  37097       62.94      37.06                Remain   \n",
       "317   55328  49371       52.84      47.16                Remain   \n",
       "318   69213  59020       53.97      46.03                Remain   \n",
       "319   75396  33410       69.29      30.71                Remain   \n",
       "320   94293  35209       72.81      27.19                Remain   \n",
       "321   49319  57241       46.28      53.72                 Leave   \n",
       "322   73011  35224       67.46      32.54                Remain   \n",
       "323   64156  44395       59.10      40.90                Remain   \n",
       "324  118463  39421       75.03      24.97                Remain   \n",
       "325   53928  24268       68.97      31.03                Remain   \n",
       "\n",
       "           Urban / Rural  % degree educated and higher  % 18+ in FTE  \\\n",
       "293  Predominantly Urban                          68.4           6.2   \n",
       "294  Predominantly Urban                          20.9           7.2   \n",
       "295  Predominantly Urban                          40.3           7.3   \n",
       "296  Predominantly Urban                          21.8           4.5   \n",
       "297  Predominantly Urban                          33.3           9.1   \n",
       "298  Predominantly Urban                          33.1           3.4   \n",
       "299  Predominantly Urban                          50.5          13.6   \n",
       "300  Predominantly Urban                          31.8           5.9   \n",
       "301  Predominantly Urban                          37.0           7.6   \n",
       "302  Predominantly Urban                          28.7           7.0   \n",
       "303  Predominantly Urban                          33.2           8.8   \n",
       "304  Predominantly Urban                          41.8           9.0   \n",
       "305  Predominantly Urban                          49.6           9.0   \n",
       "306  Predominantly Urban                          40.8           8.5   \n",
       "307  Predominantly Urban                          36.8           6.8   \n",
       "308  Predominantly Urban                          19.4           3.4   \n",
       "309  Predominantly Urban                          28.0           8.9   \n",
       "310  Predominantly Urban                          34.6           7.4   \n",
       "311  Predominantly Urban                          48.1          10.7   \n",
       "312  Predominantly Urban                          52.7           8.3   \n",
       "313  Predominantly Urban                          41.4          10.2   \n",
       "314  Predominantly Urban                          46.6           7.7   \n",
       "315  Predominantly Urban                          38.0           8.5   \n",
       "316  Predominantly Urban                          41.1           6.0   \n",
       "317  Predominantly Urban                          30.1          14.9   \n",
       "318  Predominantly Urban                          33.9           7.6   \n",
       "319  Predominantly Urban                          53.0           4.9   \n",
       "320  Predominantly Urban                          43.1          11.5   \n",
       "321  Predominantly Urban                          30.1           3.7   \n",
       "322  Predominantly Urban                          41.0          12.1   \n",
       "323  Predominantly Urban                          30.0           8.3   \n",
       "324  Predominantly Urban                          53.6           6.8   \n",
       "325  Predominantly Urban                          50.3          10.0   \n",
       "\n",
       "    % non-British  % identifying as white  \\\n",
       "293        32.93%                    78.6   \n",
       "294        22.44%                    58.2   \n",
       "295        23.36%                    64.1   \n",
       "296        11.16%                    81.6   \n",
       "297        32.00%                    36.2   \n",
       "298        12.04%                    84.1   \n",
       "299        23.97%                    66.2   \n",
       "300        18.21%                    55.0   \n",
       "301        32.94%                    48.9   \n",
       "302        19.45%                    60.9   \n",
       "303        24.82%                    62.3   \n",
       "304        24.07%                    54.5   \n",
       "305        27.93%                    68.0   \n",
       "306        27.47%                    60.4   \n",
       "307        29.55%                    42.2   \n",
       "308         6.43%                    87.6   \n",
       "309        18.46%                    60.5   \n",
       "310        27.31%                    51.3   \n",
       "311        23.35%                    68.1   \n",
       "312        39.10%                    70.5   \n",
       "313        17.24%                    74.4   \n",
       "314        22.29%                    57.0   \n",
       "315        22.48%                    53.5   \n",
       "316        27.80%                    64.8   \n",
       "317        34.93%                    28.8   \n",
       "318        21.48%                    42.5   \n",
       "319        15.31%                    85.9   \n",
       "320        26.45%                    54.1   \n",
       "321        15.50%                    78.5   \n",
       "322        22.82%                    45.1   \n",
       "323        25.74%                    52.1   \n",
       "324        25.80%                    71.4   \n",
       "325        32.93%                    61.6   \n",
       "\n",
       "     % identifying as non-white (derived cell)  Median Age  % Unemployed  \\\n",
       "293                                       21.4        38.7           0.9   \n",
       "294                                       41.8        32.1           2.5   \n",
       "295                                       35.9        36.3           1.5   \n",
       "296                                       18.4        38.6           1.3   \n",
       "297                                       63.8        34.6           2.3   \n",
       "298                                       15.9        40.5           1.0   \n",
       "299                                       33.8        34.0           1.6   \n",
       "300                                       45.0        36.8           1.6   \n",
       "301                                       51.1        35.9           2.2   \n",
       "302                                       39.1        35.5           2.2   \n",
       "303                                       37.7        34.2           2.2   \n",
       "304                                       45.5        32.3           2.6   \n",
       "305                                       32.0        34.5           2.3   \n",
       "306                                       39.6        34.2           2.5   \n",
       "307                                       57.8        37.4           1.2   \n",
       "308                                       12.4        39.7           1.5   \n",
       "309                                       39.5        35.3           1.4   \n",
       "310                                       48.7        35.2           1.0   \n",
       "311                                       31.9        32.0           2.1   \n",
       "312                                       29.5        38.5           1.4   \n",
       "313                                       25.6        36.2           1.0   \n",
       "314                                       43.0        32.6           2.5   \n",
       "315                                       46.5        34.4           2.5   \n",
       "316                                       35.2        36.3           1.4   \n",
       "317                                       71.2        31.1           1.9   \n",
       "318                                       57.5        34.9           1.3   \n",
       "319                                       14.1        39.9           1.0   \n",
       "320                                       45.9        32.9           2.0   \n",
       "321                                       21.5        38.8           0.6   \n",
       "322                                       54.9        30.6           2.3   \n",
       "323                                       47.9        34.2           2.3   \n",
       "324                                       28.6        33.5           1.4   \n",
       "325                                       38.4        35.5           1.5   \n",
       "\n",
       "     GVA 2015  Unnamed: 19 Unnamed: 20 Unnamed: 21  Unnamed: 22  \n",
       "293   5333112          NaN         NaN         NaN          NaN  \n",
       "294     16514          NaN         NaN         NaN          NaN  \n",
       "295     24760          NaN         NaN         NaN          NaN  \n",
       "296     21255          NaN         NaN         NaN          NaN  \n",
       "297     24630          NaN         NaN         NaN          NaN  \n",
       "298     21907          NaN         NaN         NaN          NaN  \n",
       "299    109694          NaN         NaN         NaN          NaN  \n",
       "300     19481          NaN         NaN         NaN          NaN  \n",
       "301     26465          NaN         NaN         NaN          NaN  \n",
       "302     20091          NaN         NaN         NaN          NaN  \n",
       "303     16890          NaN         NaN         NaN          NaN  \n",
       "304     26970          NaN         NaN         NaN          NaN  \n",
       "305     55434          NaN         NaN         NaN          NaN  \n",
       "306     21212          NaN         NaN         NaN          NaN  \n",
       "307     22155          NaN         NaN         NaN          NaN  \n",
       "308     20311          NaN         NaN         NaN          NaN  \n",
       "309     41306          NaN         NaN         NaN          NaN  \n",
       "310     39219          NaN         NaN         NaN          NaN  \n",
       "311     74851          NaN         NaN         NaN          NaN  \n",
       "312     70390          NaN         NaN         NaN          NaN  \n",
       "313     27809          NaN         NaN         NaN          NaN  \n",
       "314     34723          NaN         NaN         NaN          NaN  \n",
       "315     16511          NaN         NaN         NaN          NaN  \n",
       "316     24651          NaN         NaN         NaN          NaN  \n",
       "317     19524          NaN         NaN         NaN          NaN  \n",
       "318     17274          NaN         NaN         NaN          NaN  \n",
       "319     34145          NaN         NaN         NaN          NaN  \n",
       "320     48349          NaN         NaN         NaN          NaN  \n",
       "321     21049          NaN         NaN         NaN          NaN  \n",
       "322     98134          NaN         NaN         NaN          NaN  \n",
       "323     16812          NaN         NaN         NaN          NaN  \n",
       "324     30216          NaN         NaN         NaN          NaN  \n",
       "325    221103          NaN         NaN         NaN          NaN  "
      ]
     },
     "execution_count": 6,
     "metadata": {},
     "output_type": "execute_result"
    }
   ],
   "source": [
    "df_london"
   ]
  },
  {
   "cell_type": "markdown",
   "metadata": {},
   "source": [
    "### Cleaning the dataset <a class=\"anchor\" id=\"data-exploration\"></a>"
   ]
  },
  {
   "cell_type": "markdown",
   "metadata": {},
   "source": [
    "In this section you would look for any discrepancies in the dataset, e.g. time based columns stored as Numpy objects, and remove/sanitize them. For example you might convert dates stored as time strings (\"1/19/20\") into datetime columns, which can be manipulated  by Pandas. So, for example, you could easily get the time difference in days between two dates. "
   ]
  },
  {
   "cell_type": "markdown",
   "metadata": {},
   "source": [
    "## Exploring the dataset <a class=\"anchor\" id=\"data-exploration\"></a>\n",
    "\n",
    "In this section you iteratively explore the dataset, looking for points of interest, meaningful correlations etc. This exploration is driven initally by the questions posed in the initial [data analysis](#data-analysis) "
   ]
  },
  {
   "cell_type": "markdown",
   "metadata": {},
   "source": [
    "Let's create a vertical barchart showing Remain and Leave numbers by London Area. "
   ]
  },
  {
   "cell_type": "code",
   "execution_count": 7,
   "metadata": {},
   "outputs": [
    {
     "data": {
      "text/plain": [
       "<AxesSubplot:ylabel='Area'>"
      ]
     },
     "execution_count": 7,
     "metadata": {},
     "output_type": "execute_result"
    },
    {
     "data": {
      "image/png": "[encoded data removed]",
      "text/plain": [
       "<Figure size 432x720 with 1 Axes>"
      ]
     },
     "metadata": {
      "needs_background": "light"
     },
     "output_type": "display_data"
    }
   ],
   "source": [
    "df_london.plot(x=\"Area\", y=[\"Remain\", \"Leave\"], kind=\"barh\", figsize=(6, 10), sort_columns=True)"
   ]
  },
  {
   "cell_type": "markdown",
   "metadata": {},
   "source": [
    "Let's use the `sort_values` method to sort the Area names alphabetically so that they read from top to bottom:"
   ]
  },
  {
   "cell_type": "code",
   "execution_count": 8,
   "metadata": {},
   "outputs": [
    {
     "data": {
      "text/plain": [
       "<AxesSubplot:ylabel='Area'>"
      ]
     },
     "execution_count": 8,
     "metadata": {},
     "output_type": "execute_result"
    },
    {
     "data": {
      "image/png": "[encoded data removed]",
      "text/plain": [
       "<Figure size 432x720 with 1 Axes>"
      ]
     },
     "metadata": {
      "needs_background": "light"
     },
     "output_type": "display_data"
    }
   ],
   "source": [
    "df_london.sort_values(by=\"Area\", ascending=False).plot(x=\"Area\", y=[\"Remain\", \"Leave\"], kind=\"barh\", figsize=(6, 10), sort_columns=True)"
   ]
  },
  {
   "cell_type": "markdown",
   "metadata": {},
   "source": [
    "These grouped bars show clearly that London voted predominantly to stay in the EU. \n",
    "\n",
    "Now let's see if we can find any correlation between the age of the voters and their voting intentions. A scatter-plot of median age for the area against the percentage voting leave should clarify:"
   ]
  },
  {
   "cell_type": "code",
   "execution_count": 9,
   "metadata": {},
   "outputs": [
    {
     "data": {
      "text/plain": [
       "<AxesSubplot:xlabel='Median Age', ylabel='Pct_Leave'>"
      ]
     },
     "execution_count": 9,
     "metadata": {},
     "output_type": "execute_result"
    },
    {
     "data": {
      "image/png": "[encoded data removed]",
      "text/plain": [
       "<Figure size 432x288 with 1 Axes>"
      ]
     },
     "metadata": {
      "needs_background": "light"
     },
     "output_type": "display_data"
    }
   ],
   "source": [
    "df_london.plot(x=\"Median Age\", y=\"Pct_Leave\", kind=\"scatter\")"
   ]
  },
  {
   "cell_type": "markdown",
   "metadata": {},
   "source": [
    "That looks like a correlation - let's use Seaborns `regplot` to superimpose a line regression with error bars:"
   ]
  },
  {
   "cell_type": "code",
   "execution_count": 10,
   "metadata": {},
   "outputs": [
    {
     "data": {
      "text/plain": [
       "<AxesSubplot:xlabel='Median Age', ylabel='Pct_Leave'>"
      ]
     },
     "execution_count": 10,
     "metadata": {},
     "output_type": "execute_result"
    },
    {
     "data": {
      "image/png": "[encoded data removed]",
      "text/plain": [
       "<Figure size 432x288 with 1 Axes>"
      ]
     },
     "metadata": {
      "needs_background": "light"
     },
     "output_type": "display_data"
    }
   ],
   "source": [
    "sns.regplot(x='Median Age', y='Pct_Leave', data=df_london)"
   ]
  },
  {
   "cell_type": "code",
   "execution_count": 11,
   "metadata": {},
   "outputs": [
    {
     "data": {
      "text/plain": [
       "<AxesSubplot:xlabel='% Unemployed', ylabel='Pct_Leave'>"
      ]
     },
     "execution_count": 11,
     "metadata": {},
     "output_type": "execute_result"
    },
    {
     "data": {
      "image/png": "[encoded data removed]",
      "text/plain": [
       "<Figure size 432x288 with 1 Axes>"
      ]
     },
     "metadata": {
      "needs_background": "light"
     },
     "output_type": "display_data"
    }
   ],
   "source": [
    "sns.regplot(x=\"% Unemployed\", y=\"Pct_Leave\", data=df_london)"
   ]
  },
  {
   "cell_type": "code",
   "execution_count": 12,
   "metadata": {},
   "outputs": [
    {
     "ename": "UFuncTypeError",
     "evalue": "ufunc 'multiply' did not contain a loop with signature matching types (dtype('<U32'), dtype('<U32')) -> dtype('<U32')",
     "output_type": "error",
     "traceback": [
      "\u001b[0;31m---------------------------------------------------------------------------\u001b[0m",
      "\u001b[0;31mUFuncTypeError\u001b[0m                            Traceback (most recent call last)",
      "\u001b[0;32m<ipython-input-12-932056c6b470>\u001b[0m in \u001b[0;36m<module>\u001b[0;34m\u001b[0m\n\u001b[0;32m----> 1\u001b[0;31m \u001b[0msns\u001b[0m\u001b[0;34m.\u001b[0m\u001b[0mregplot\u001b[0m\u001b[0;34m(\u001b[0m\u001b[0mx\u001b[0m\u001b[0;34m=\u001b[0m\u001b[0;34m\"% non-British\"\u001b[0m\u001b[0;34m,\u001b[0m \u001b[0my\u001b[0m\u001b[0;34m=\u001b[0m\u001b[0;34m\"Pct_Leave\"\u001b[0m\u001b[0;34m,\u001b[0m \u001b[0mdata\u001b[0m\u001b[0;34m=\u001b[0m\u001b[0mdf_london\u001b[0m\u001b[0;34m)\u001b[0m\u001b[0;34m\u001b[0m\u001b[0;34m\u001b[0m\u001b[0m\n\u001b[0m",
      "\u001b[0;32m~/workspace/.virtualenvs/ucl-2021/lib/python3.7/site-packages/seaborn/_decorators.py\u001b[0m in \u001b[0;36minner_f\u001b[0;34m(*args, **kwargs)\u001b[0m\n\u001b[1;32m     44\u001b[0m             )\n\u001b[1;32m     45\u001b[0m         \u001b[0mkwargs\u001b[0m\u001b[0;34m.\u001b[0m\u001b[0mupdate\u001b[0m\u001b[0;34m(\u001b[0m\u001b[0;34m{\u001b[0m\u001b[0mk\u001b[0m\u001b[0;34m:\u001b[0m \u001b[0marg\u001b[0m \u001b[0;32mfor\u001b[0m \u001b[0mk\u001b[0m\u001b[0;34m,\u001b[0m \u001b[0marg\u001b[0m \u001b[0;32min\u001b[0m \u001b[0mzip\u001b[0m\u001b[0;34m(\u001b[0m\u001b[0msig\u001b[0m\u001b[0;34m.\u001b[0m\u001b[0mparameters\u001b[0m\u001b[0;34m,\u001b[0m \u001b[0margs\u001b[0m\u001b[0;34m)\u001b[0m\u001b[0;34m}\u001b[0m\u001b[0;34m)\u001b[0m\u001b[0;34m\u001b[0m\u001b[0;34m\u001b[0m\u001b[0m\n\u001b[0;32m---> 46\u001b[0;31m         \u001b[0;32mreturn\u001b[0m \u001b[0mf\u001b[0m\u001b[0;34m(\u001b[0m\u001b[0;34m**\u001b[0m\u001b[0mkwargs\u001b[0m\u001b[0;34m)\u001b[0m\u001b[0;34m\u001b[0m\u001b[0;34m\u001b[0m\u001b[0m\n\u001b[0m\u001b[1;32m     47\u001b[0m     \u001b[0;32mreturn\u001b[0m \u001b[0minner_f\u001b[0m\u001b[0;34m\u001b[0m\u001b[0;34m\u001b[0m\u001b[0m\n\u001b[1;32m     48\u001b[0m \u001b[0;34m\u001b[0m\u001b[0m\n",
      "\u001b[0;32m~/workspace/.virtualenvs/ucl-2021/lib/python3.7/site-packages/seaborn/regression.py\u001b[0m in \u001b[0;36mregplot\u001b[0;34m(x, y, data, x_estimator, x_bins, x_ci, scatter, fit_reg, ci, n_boot, units, seed, order, logistic, lowess, robust, logx, x_partial, y_partial, truncate, dropna, x_jitter, y_jitter, label, color, marker, scatter_kws, line_kws, ax)\u001b[0m\n\u001b[1;32m    836\u001b[0m     \u001b[0mscatter_kws\u001b[0m\u001b[0;34m[\u001b[0m\u001b[0;34m\"marker\"\u001b[0m\u001b[0;34m]\u001b[0m \u001b[0;34m=\u001b[0m \u001b[0mmarker\u001b[0m\u001b[0;34m\u001b[0m\u001b[0;34m\u001b[0m\u001b[0m\n\u001b[1;32m    837\u001b[0m     \u001b[0mline_kws\u001b[0m \u001b[0;34m=\u001b[0m \u001b[0;34m{\u001b[0m\u001b[0;34m}\u001b[0m \u001b[0;32mif\u001b[0m \u001b[0mline_kws\u001b[0m \u001b[0;32mis\u001b[0m \u001b[0;32mNone\u001b[0m \u001b[0;32melse\u001b[0m \u001b[0mcopy\u001b[0m\u001b[0;34m.\u001b[0m\u001b[0mcopy\u001b[0m\u001b[0;34m(\u001b[0m\u001b[0mline_kws\u001b[0m\u001b[0;34m)\u001b[0m\u001b[0;34m\u001b[0m\u001b[0;34m\u001b[0m\u001b[0m\n\u001b[0;32m--> 838\u001b[0;31m     \u001b[0mplotter\u001b[0m\u001b[0;34m.\u001b[0m\u001b[0mplot\u001b[0m\u001b[0;34m(\u001b[0m\u001b[0max\u001b[0m\u001b[0;34m,\u001b[0m \u001b[0mscatter_kws\u001b[0m\u001b[0;34m,\u001b[0m \u001b[0mline_kws\u001b[0m\u001b[0;34m)\u001b[0m\u001b[0;34m\u001b[0m\u001b[0;34m\u001b[0m\u001b[0m\n\u001b[0m\u001b[1;32m    839\u001b[0m     \u001b[0;32mreturn\u001b[0m \u001b[0max\u001b[0m\u001b[0;34m\u001b[0m\u001b[0;34m\u001b[0m\u001b[0m\n\u001b[1;32m    840\u001b[0m \u001b[0;34m\u001b[0m\u001b[0m\n",
      "\u001b[0;32m~/workspace/.virtualenvs/ucl-2021/lib/python3.7/site-packages/seaborn/regression.py\u001b[0m in \u001b[0;36mplot\u001b[0;34m(self, ax, scatter_kws, line_kws)\u001b[0m\n\u001b[1;32m    368\u001b[0m \u001b[0;34m\u001b[0m\u001b[0m\n\u001b[1;32m    369\u001b[0m         \u001b[0;32mif\u001b[0m \u001b[0mself\u001b[0m\u001b[0;34m.\u001b[0m\u001b[0mfit_reg\u001b[0m\u001b[0;34m:\u001b[0m\u001b[0;34m\u001b[0m\u001b[0;34m\u001b[0m\u001b[0m\n\u001b[0;32m--> 370\u001b[0;31m             \u001b[0mself\u001b[0m\u001b[0;34m.\u001b[0m\u001b[0mlineplot\u001b[0m\u001b[0;34m(\u001b[0m\u001b[0max\u001b[0m\u001b[0;34m,\u001b[0m \u001b[0mline_kws\u001b[0m\u001b[0;34m)\u001b[0m\u001b[0;34m\u001b[0m\u001b[0;34m\u001b[0m\u001b[0m\n\u001b[0m\u001b[1;32m    371\u001b[0m \u001b[0;34m\u001b[0m\u001b[0m\n\u001b[1;32m    372\u001b[0m         \u001b[0;31m# Label the axes\u001b[0m\u001b[0;34m\u001b[0m\u001b[0;34m\u001b[0m\u001b[0;34m\u001b[0m\u001b[0m\n",
      "\u001b[0;32m~/workspace/.virtualenvs/ucl-2021/lib/python3.7/site-packages/seaborn/regression.py\u001b[0m in \u001b[0;36mlineplot\u001b[0;34m(self, ax, kws)\u001b[0m\n\u001b[1;32m    411\u001b[0m         \u001b[0;34m\"\"\"Draw the model.\"\"\"\u001b[0m\u001b[0;34m\u001b[0m\u001b[0;34m\u001b[0m\u001b[0m\n\u001b[1;32m    412\u001b[0m         \u001b[0;31m# Fit the regression model\u001b[0m\u001b[0;34m\u001b[0m\u001b[0;34m\u001b[0m\u001b[0;34m\u001b[0m\u001b[0m\n\u001b[0;32m--> 413\u001b[0;31m         \u001b[0mgrid\u001b[0m\u001b[0;34m,\u001b[0m \u001b[0myhat\u001b[0m\u001b[0;34m,\u001b[0m \u001b[0merr_bands\u001b[0m \u001b[0;34m=\u001b[0m \u001b[0mself\u001b[0m\u001b[0;34m.\u001b[0m\u001b[0mfit_regression\u001b[0m\u001b[0;34m(\u001b[0m\u001b[0max\u001b[0m\u001b[0;34m)\u001b[0m\u001b[0;34m\u001b[0m\u001b[0;34m\u001b[0m\u001b[0m\n\u001b[0m\u001b[1;32m    414\u001b[0m         \u001b[0medges\u001b[0m \u001b[0;34m=\u001b[0m \u001b[0mgrid\u001b[0m\u001b[0;34m[\u001b[0m\u001b[0;36m0\u001b[0m\u001b[0;34m]\u001b[0m\u001b[0;34m,\u001b[0m \u001b[0mgrid\u001b[0m\u001b[0;34m[\u001b[0m\u001b[0;34m-\u001b[0m\u001b[0;36m1\u001b[0m\u001b[0;34m]\u001b[0m\u001b[0;34m\u001b[0m\u001b[0;34m\u001b[0m\u001b[0m\n\u001b[1;32m    415\u001b[0m \u001b[0;34m\u001b[0m\u001b[0m\n",
      "\u001b[0;32m~/workspace/.virtualenvs/ucl-2021/lib/python3.7/site-packages/seaborn/regression.py\u001b[0m in \u001b[0;36mfit_regression\u001b[0;34m(self, ax, x_range, grid)\u001b[0m\n\u001b[1;32m    199\u001b[0m                 \u001b[0;32melse\u001b[0m\u001b[0;34m:\u001b[0m\u001b[0;34m\u001b[0m\u001b[0;34m\u001b[0m\u001b[0m\n\u001b[1;32m    200\u001b[0m                     \u001b[0mx_min\u001b[0m\u001b[0;34m,\u001b[0m \u001b[0mx_max\u001b[0m \u001b[0;34m=\u001b[0m \u001b[0max\u001b[0m\u001b[0;34m.\u001b[0m\u001b[0mget_xlim\u001b[0m\u001b[0;34m(\u001b[0m\u001b[0;34m)\u001b[0m\u001b[0;34m\u001b[0m\u001b[0;34m\u001b[0m\u001b[0m\n\u001b[0;32m--> 201\u001b[0;31m             \u001b[0mgrid\u001b[0m \u001b[0;34m=\u001b[0m \u001b[0mnp\u001b[0m\u001b[0;34m.\u001b[0m\u001b[0mlinspace\u001b[0m\u001b[0;34m(\u001b[0m\u001b[0mx_min\u001b[0m\u001b[0;34m,\u001b[0m \u001b[0mx_max\u001b[0m\u001b[0;34m,\u001b[0m \u001b[0;36m100\u001b[0m\u001b[0;34m)\u001b[0m\u001b[0;34m\u001b[0m\u001b[0;34m\u001b[0m\u001b[0m\n\u001b[0m\u001b[1;32m    202\u001b[0m         \u001b[0mci\u001b[0m \u001b[0;34m=\u001b[0m \u001b[0mself\u001b[0m\u001b[0;34m.\u001b[0m\u001b[0mci\u001b[0m\u001b[0;34m\u001b[0m\u001b[0;34m\u001b[0m\u001b[0m\n\u001b[1;32m    203\u001b[0m \u001b[0;34m\u001b[0m\u001b[0m\n",
      "\u001b[0;32m<__array_function__ internals>\u001b[0m in \u001b[0;36mlinspace\u001b[0;34m(*args, **kwargs)\u001b[0m\n",
      "\u001b[0;32m~/workspace/.virtualenvs/ucl-2021/lib/python3.7/site-packages/numpy/core/function_base.py\u001b[0m in \u001b[0;36mlinspace\u001b[0;34m(start, stop, num, endpoint, retstep, dtype, axis)\u001b[0m\n\u001b[1;32m    125\u001b[0m     \u001b[0;31m# Convert float/complex array scalars to float, gh-3504\u001b[0m\u001b[0;34m\u001b[0m\u001b[0;34m\u001b[0m\u001b[0;34m\u001b[0m\u001b[0m\n\u001b[1;32m    126\u001b[0m     \u001b[0;31m# and make sure one can use variables that have an __array_interface__, gh-6634\u001b[0m\u001b[0;34m\u001b[0m\u001b[0;34m\u001b[0m\u001b[0;34m\u001b[0m\u001b[0m\n\u001b[0;32m--> 127\u001b[0;31m     \u001b[0mstart\u001b[0m \u001b[0;34m=\u001b[0m \u001b[0masanyarray\u001b[0m\u001b[0;34m(\u001b[0m\u001b[0mstart\u001b[0m\u001b[0;34m)\u001b[0m \u001b[0;34m*\u001b[0m \u001b[0;36m1.0\u001b[0m\u001b[0;34m\u001b[0m\u001b[0;34m\u001b[0m\u001b[0m\n\u001b[0m\u001b[1;32m    128\u001b[0m     \u001b[0mstop\u001b[0m  \u001b[0;34m=\u001b[0m \u001b[0masanyarray\u001b[0m\u001b[0;34m(\u001b[0m\u001b[0mstop\u001b[0m\u001b[0;34m)\u001b[0m  \u001b[0;34m*\u001b[0m \u001b[0;36m1.0\u001b[0m\u001b[0;34m\u001b[0m\u001b[0;34m\u001b[0m\u001b[0m\n\u001b[1;32m    129\u001b[0m \u001b[0;34m\u001b[0m\u001b[0m\n",
      "\u001b[0;31mUFuncTypeError\u001b[0m: ufunc 'multiply' did not contain a loop with signature matching types (dtype('<U32'), dtype('<U32')) -> dtype('<U32')"
     ]
    },
    {
     "data": {
      "image/png": "[encoded data removed]",
      "text/plain": [
       "<Figure size 432x288 with 1 Axes>"
      ]
     },
     "metadata": {
      "needs_background": "light"
     },
     "output_type": "display_data"
    }
   ],
   "source": [
    "sns.regplot(x=\"% non-British\", y=\"Pct_Leave\", data=df_london)"
   ]
  },
  {
   "cell_type": "markdown",
   "metadata": {},
   "source": [
    "Oops - a unclean data alert!! Explain what went wrong and what you will do to fix it. "
   ]
  },
  {
   "cell_type": "code",
   "execution_count": 13,
   "metadata": {},
   "outputs": [
    {
     "data": {
      "text/plain": [
       "['32.93%',\n",
       " '22.44%',\n",
       " '23.36%',\n",
       " '11.16%',\n",
       " '32.00%',\n",
       " '12.04%',\n",
       " '23.97%',\n",
       " '18.21%',\n",
       " '32.94%',\n",
       " '19.45%',\n",
       " '24.82%',\n",
       " '24.07%',\n",
       " '27.93%',\n",
       " '27.47%',\n",
       " '29.55%',\n",
       " '6.43%',\n",
       " '18.46%',\n",
       " '27.31%',\n",
       " '23.35%',\n",
       " '39.10%',\n",
       " '17.24%',\n",
       " '22.29%',\n",
       " '22.48%',\n",
       " '27.80%',\n",
       " '34.93%',\n",
       " '21.48%',\n",
       " '15.31%',\n",
       " '26.45%',\n",
       " '15.50%',\n",
       " '22.82%',\n",
       " '25.74%',\n",
       " '25.80%',\n",
       " '32.93%']"
      ]
     },
     "execution_count": 13,
     "metadata": {},
     "output_type": "execute_result"
    }
   ],
   "source": [
    "list(df_london[\"% non-British\"])"
   ]
  },
  {
   "cell_type": "code",
   "execution_count": 14,
   "metadata": {},
   "outputs": [],
   "source": [
    "def convert_dodgy_number(x):\n",
    "    try:\n",
    "        x = float(str(x)[:-1])\n",
    "    except:\n",
    "        x = pd.NaT\n",
    "    return x"
   ]
  },
  {
   "cell_type": "code",
   "execution_count": 15,
   "metadata": {
    "scrolled": true
   },
   "outputs": [
    {
     "data": {
      "text/plain": [
       "293    32.93\n",
       "294    22.44\n",
       "295    23.36\n",
       "296    11.16\n",
       "297    32.00\n",
       "298    12.04\n",
       "299    23.97\n",
       "300    18.21\n",
       "301    32.94\n",
       "302    19.45\n",
       "303    24.82\n",
       "304    24.07\n",
       "305    27.93\n",
       "306    27.47\n",
       "307    29.55\n",
       "308     6.43\n",
       "309    18.46\n",
       "310    27.31\n",
       "311    23.35\n",
       "312    39.10\n",
       "313    17.24\n",
       "314    22.29\n",
       "315    22.48\n",
       "316    27.80\n",
       "317    34.93\n",
       "318    21.48\n",
       "319    15.31\n",
       "320    26.45\n",
       "321    15.50\n",
       "322    22.82\n",
       "323    25.74\n",
       "324    25.80\n",
       "325    32.93\n",
       "Name: % non-British, dtype: float64"
      ]
     },
     "execution_count": 15,
     "metadata": {},
     "output_type": "execute_result"
    }
   ],
   "source": [
    "df_london[\"% non-British\"].apply(convert_dodgy_number)"
   ]
  },
  {
   "cell_type": "code",
   "execution_count": 16,
   "metadata": {},
   "outputs": [],
   "source": [
    "df_london[\"% non-British\"] = df_london[\"% non-British\"].apply(convert_dodgy_number)"
   ]
  },
  {
   "cell_type": "code",
   "execution_count": 17,
   "metadata": {},
   "outputs": [],
   "source": [
    "# an alternative way to change the column values with added flexibility to specify rows\n",
    "#df_london.loc[:,'% non-British'] = df_london['% non-British'].apply(convert_dodgy_number)"
   ]
  },
  {
   "cell_type": "code",
   "execution_count": 18,
   "metadata": {
    "scrolled": true
   },
   "outputs": [
    {
     "data": {
      "text/html": [
       "<div>\n",
       "<style scoped>\n",
       "    .dataframe tbody tr th:only-of-type {\n",
       "        vertical-align: middle;\n",
       "    }\n",
       "\n",
       "    .dataframe tbody tr th {\n",
       "        vertical-align: top;\n",
       "    }\n",
       "\n",
       "    .dataframe thead th {\n",
       "        text-align: right;\n",
       "    }\n",
       "</style>\n",
       "<table border=\"1\" class=\"dataframe\">\n",
       "  <thead>\n",
       "    <tr style=\"text-align: right;\">\n",
       "      <th></th>\n",
       "      <th>Area_Code</th>\n",
       "      <th>Area</th>\n",
       "      <th>Region_Code</th>\n",
       "      <th>Region</th>\n",
       "      <th>Valid_Votes</th>\n",
       "      <th>Remain</th>\n",
       "      <th>Leave</th>\n",
       "      <th>Pct_Remain</th>\n",
       "      <th>Pct_Leave</th>\n",
       "      <th>Leave? (derived cell)</th>\n",
       "      <th>Urban / Rural</th>\n",
       "      <th>% degree educated and higher</th>\n",
       "      <th>% 18+ in FTE</th>\n",
       "      <th>% non-British</th>\n",
       "      <th>% identifying as white</th>\n",
       "      <th>% identifying as non-white (derived cell)</th>\n",
       "      <th>Median Age</th>\n",
       "      <th>% Unemployed</th>\n",
       "      <th>GVA 2015</th>\n",
       "      <th>Unnamed: 19</th>\n",
       "      <th>Unnamed: 20</th>\n",
       "      <th>Unnamed: 21</th>\n",
       "      <th>Unnamed: 22</th>\n",
       "    </tr>\n",
       "  </thead>\n",
       "  <tbody>\n",
       "    <tr>\n",
       "      <th>293</th>\n",
       "      <td>E09000001</td>\n",
       "      <td>City of London</td>\n",
       "      <td>E12000007</td>\n",
       "      <td>London</td>\n",
       "      <td>4399</td>\n",
       "      <td>3312</td>\n",
       "      <td>1087</td>\n",
       "      <td>75.29</td>\n",
       "      <td>24.71</td>\n",
       "      <td>Remain</td>\n",
       "      <td>Predominantly Urban</td>\n",
       "      <td>68.4</td>\n",
       "      <td>6.2</td>\n",
       "      <td>32.93</td>\n",
       "      <td>78.6</td>\n",
       "      <td>21.4</td>\n",
       "      <td>38.7</td>\n",
       "      <td>0.9</td>\n",
       "      <td>5333112</td>\n",
       "      <td>NaN</td>\n",
       "      <td>NaN</td>\n",
       "      <td>NaN</td>\n",
       "      <td>NaN</td>\n",
       "    </tr>\n",
       "    <tr>\n",
       "      <th>294</th>\n",
       "      <td>E09000002</td>\n",
       "      <td>Barking and Dagenham</td>\n",
       "      <td>E12000007</td>\n",
       "      <td>London</td>\n",
       "      <td>73880</td>\n",
       "      <td>27750</td>\n",
       "      <td>46130</td>\n",
       "      <td>37.56</td>\n",
       "      <td>62.44</td>\n",
       "      <td>Leave</td>\n",
       "      <td>Predominantly Urban</td>\n",
       "      <td>20.9</td>\n",
       "      <td>7.2</td>\n",
       "      <td>22.44</td>\n",
       "      <td>58.2</td>\n",
       "      <td>41.8</td>\n",
       "      <td>32.1</td>\n",
       "      <td>2.5</td>\n",
       "      <td>16514</td>\n",
       "      <td>NaN</td>\n",
       "      <td>NaN</td>\n",
       "      <td>NaN</td>\n",
       "      <td>NaN</td>\n",
       "    </tr>\n",
       "    <tr>\n",
       "      <th>295</th>\n",
       "      <td>E09000003</td>\n",
       "      <td>Barnet</td>\n",
       "      <td>E12000007</td>\n",
       "      <td>London</td>\n",
       "      <td>161033</td>\n",
       "      <td>100210</td>\n",
       "      <td>60823</td>\n",
       "      <td>62.23</td>\n",
       "      <td>37.77</td>\n",
       "      <td>Remain</td>\n",
       "      <td>Predominantly Urban</td>\n",
       "      <td>40.3</td>\n",
       "      <td>7.3</td>\n",
       "      <td>23.36</td>\n",
       "      <td>64.1</td>\n",
       "      <td>35.9</td>\n",
       "      <td>36.3</td>\n",
       "      <td>1.5</td>\n",
       "      <td>24760</td>\n",
       "      <td>NaN</td>\n",
       "      <td>NaN</td>\n",
       "      <td>NaN</td>\n",
       "      <td>NaN</td>\n",
       "    </tr>\n",
       "    <tr>\n",
       "      <th>296</th>\n",
       "      <td>E09000004</td>\n",
       "      <td>Bexley</td>\n",
       "      <td>E12000007</td>\n",
       "      <td>London</td>\n",
       "      <td>128489</td>\n",
       "      <td>47603</td>\n",
       "      <td>80886</td>\n",
       "      <td>37.05</td>\n",
       "      <td>62.95</td>\n",
       "      <td>Leave</td>\n",
       "      <td>Predominantly Urban</td>\n",
       "      <td>21.8</td>\n",
       "      <td>4.5</td>\n",
       "      <td>11.16</td>\n",
       "      <td>81.6</td>\n",
       "      <td>18.4</td>\n",
       "      <td>38.6</td>\n",
       "      <td>1.3</td>\n",
       "      <td>21255</td>\n",
       "      <td>NaN</td>\n",
       "      <td>NaN</td>\n",
       "      <td>NaN</td>\n",
       "      <td>NaN</td>\n",
       "    </tr>\n",
       "    <tr>\n",
       "      <th>297</th>\n",
       "      <td>E09000005</td>\n",
       "      <td>Brent</td>\n",
       "      <td>E12000007</td>\n",
       "      <td>London</td>\n",
       "      <td>121404</td>\n",
       "      <td>72523</td>\n",
       "      <td>48881</td>\n",
       "      <td>59.74</td>\n",
       "      <td>40.26</td>\n",
       "      <td>Remain</td>\n",
       "      <td>Predominantly Urban</td>\n",
       "      <td>33.3</td>\n",
       "      <td>9.1</td>\n",
       "      <td>32.00</td>\n",
       "      <td>36.2</td>\n",
       "      <td>63.8</td>\n",
       "      <td>34.6</td>\n",
       "      <td>2.3</td>\n",
       "      <td>24630</td>\n",
       "      <td>NaN</td>\n",
       "      <td>NaN</td>\n",
       "      <td>NaN</td>\n",
       "      <td>NaN</td>\n",
       "    </tr>\n",
       "    <tr>\n",
       "      <th>298</th>\n",
       "      <td>E09000006</td>\n",
       "      <td>Bromley</td>\n",
       "      <td>E12000007</td>\n",
       "      <td>London</td>\n",
       "      <td>182432</td>\n",
       "      <td>92398</td>\n",
       "      <td>90034</td>\n",
       "      <td>50.65</td>\n",
       "      <td>49.35</td>\n",
       "      <td>Remain</td>\n",
       "      <td>Predominantly Urban</td>\n",
       "      <td>33.1</td>\n",
       "      <td>3.4</td>\n",
       "      <td>12.04</td>\n",
       "      <td>84.1</td>\n",
       "      <td>15.9</td>\n",
       "      <td>40.5</td>\n",
       "      <td>1.0</td>\n",
       "      <td>21907</td>\n",
       "      <td>NaN</td>\n",
       "      <td>NaN</td>\n",
       "      <td>NaN</td>\n",
       "      <td>NaN</td>\n",
       "    </tr>\n",
       "    <tr>\n",
       "      <th>299</th>\n",
       "      <td>E09000007</td>\n",
       "      <td>Camden</td>\n",
       "      <td>E12000007</td>\n",
       "      <td>London</td>\n",
       "      <td>95133</td>\n",
       "      <td>71295</td>\n",
       "      <td>23838</td>\n",
       "      <td>74.94</td>\n",
       "      <td>25.06</td>\n",
       "      <td>Remain</td>\n",
       "      <td>Predominantly Urban</td>\n",
       "      <td>50.5</td>\n",
       "      <td>13.6</td>\n",
       "      <td>23.97</td>\n",
       "      <td>66.2</td>\n",
       "      <td>33.8</td>\n",
       "      <td>34.0</td>\n",
       "      <td>1.6</td>\n",
       "      <td>109694</td>\n",
       "      <td>NaN</td>\n",
       "      <td>NaN</td>\n",
       "      <td>NaN</td>\n",
       "      <td>NaN</td>\n",
       "    </tr>\n",
       "    <tr>\n",
       "      <th>300</th>\n",
       "      <td>E09000008</td>\n",
       "      <td>Croydon</td>\n",
       "      <td>E12000007</td>\n",
       "      <td>London</td>\n",
       "      <td>171134</td>\n",
       "      <td>92913</td>\n",
       "      <td>78221</td>\n",
       "      <td>54.29</td>\n",
       "      <td>45.71</td>\n",
       "      <td>Remain</td>\n",
       "      <td>Predominantly Urban</td>\n",
       "      <td>31.8</td>\n",
       "      <td>5.9</td>\n",
       "      <td>18.21</td>\n",
       "      <td>55.0</td>\n",
       "      <td>45.0</td>\n",
       "      <td>36.8</td>\n",
       "      <td>1.6</td>\n",
       "      <td>19481</td>\n",
       "      <td>NaN</td>\n",
       "      <td>NaN</td>\n",
       "      <td>NaN</td>\n",
       "      <td>NaN</td>\n",
       "    </tr>\n",
       "    <tr>\n",
       "      <th>301</th>\n",
       "      <td>E09000009</td>\n",
       "      <td>Ealing</td>\n",
       "      <td>E12000007</td>\n",
       "      <td>London</td>\n",
       "      <td>149041</td>\n",
       "      <td>90024</td>\n",
       "      <td>59017</td>\n",
       "      <td>60.40</td>\n",
       "      <td>39.60</td>\n",
       "      <td>Remain</td>\n",
       "      <td>Predominantly Urban</td>\n",
       "      <td>37.0</td>\n",
       "      <td>7.6</td>\n",
       "      <td>32.94</td>\n",
       "      <td>48.9</td>\n",
       "      <td>51.1</td>\n",
       "      <td>35.9</td>\n",
       "      <td>2.2</td>\n",
       "      <td>26465</td>\n",
       "      <td>NaN</td>\n",
       "      <td>NaN</td>\n",
       "      <td>NaN</td>\n",
       "      <td>NaN</td>\n",
       "    </tr>\n",
       "    <tr>\n",
       "      <th>302</th>\n",
       "      <td>E09000010</td>\n",
       "      <td>Enfield</td>\n",
       "      <td>E12000007</td>\n",
       "      <td>London</td>\n",
       "      <td>136906</td>\n",
       "      <td>76425</td>\n",
       "      <td>60481</td>\n",
       "      <td>55.82</td>\n",
       "      <td>44.18</td>\n",
       "      <td>Remain</td>\n",
       "      <td>Predominantly Urban</td>\n",
       "      <td>28.7</td>\n",
       "      <td>7.0</td>\n",
       "      <td>19.45</td>\n",
       "      <td>60.9</td>\n",
       "      <td>39.1</td>\n",
       "      <td>35.5</td>\n",
       "      <td>2.2</td>\n",
       "      <td>20091</td>\n",
       "      <td>NaN</td>\n",
       "      <td>NaN</td>\n",
       "      <td>NaN</td>\n",
       "      <td>NaN</td>\n",
       "    </tr>\n",
       "    <tr>\n",
       "      <th>303</th>\n",
       "      <td>E09000011</td>\n",
       "      <td>Greenwich</td>\n",
       "      <td>E12000007</td>\n",
       "      <td>London</td>\n",
       "      <td>117365</td>\n",
       "      <td>65248</td>\n",
       "      <td>52117</td>\n",
       "      <td>55.59</td>\n",
       "      <td>44.41</td>\n",
       "      <td>Remain</td>\n",
       "      <td>Predominantly Urban</td>\n",
       "      <td>33.2</td>\n",
       "      <td>8.8</td>\n",
       "      <td>24.82</td>\n",
       "      <td>62.3</td>\n",
       "      <td>37.7</td>\n",
       "      <td>34.2</td>\n",
       "      <td>2.2</td>\n",
       "      <td>16890</td>\n",
       "      <td>NaN</td>\n",
       "      <td>NaN</td>\n",
       "      <td>NaN</td>\n",
       "      <td>NaN</td>\n",
       "    </tr>\n",
       "    <tr>\n",
       "      <th>304</th>\n",
       "      <td>E09000012</td>\n",
       "      <td>Hackney</td>\n",
       "      <td>E12000007</td>\n",
       "      <td>London</td>\n",
       "      <td>106266</td>\n",
       "      <td>83398</td>\n",
       "      <td>22868</td>\n",
       "      <td>78.48</td>\n",
       "      <td>21.52</td>\n",
       "      <td>Remain</td>\n",
       "      <td>Predominantly Urban</td>\n",
       "      <td>41.8</td>\n",
       "      <td>9.0</td>\n",
       "      <td>24.07</td>\n",
       "      <td>54.5</td>\n",
       "      <td>45.5</td>\n",
       "      <td>32.3</td>\n",
       "      <td>2.6</td>\n",
       "      <td>26970</td>\n",
       "      <td>NaN</td>\n",
       "      <td>NaN</td>\n",
       "      <td>NaN</td>\n",
       "      <td>NaN</td>\n",
       "    </tr>\n",
       "    <tr>\n",
       "      <th>305</th>\n",
       "      <td>E09000013</td>\n",
       "      <td>Hammersmith and Fulham</td>\n",
       "      <td>E12000007</td>\n",
       "      <td>London</td>\n",
       "      <td>80242</td>\n",
       "      <td>56188</td>\n",
       "      <td>24054</td>\n",
       "      <td>70.02</td>\n",
       "      <td>29.98</td>\n",
       "      <td>Remain</td>\n",
       "      <td>Predominantly Urban</td>\n",
       "      <td>49.6</td>\n",
       "      <td>9.0</td>\n",
       "      <td>27.93</td>\n",
       "      <td>68.0</td>\n",
       "      <td>32.0</td>\n",
       "      <td>34.5</td>\n",
       "      <td>2.3</td>\n",
       "      <td>55434</td>\n",
       "      <td>NaN</td>\n",
       "      <td>NaN</td>\n",
       "      <td>NaN</td>\n",
       "      <td>NaN</td>\n",
       "    </tr>\n",
       "    <tr>\n",
       "      <th>306</th>\n",
       "      <td>E09000014</td>\n",
       "      <td>Haringey</td>\n",
       "      <td>E12000007</td>\n",
       "      <td>London</td>\n",
       "      <td>105846</td>\n",
       "      <td>79991</td>\n",
       "      <td>25855</td>\n",
       "      <td>75.57</td>\n",
       "      <td>24.43</td>\n",
       "      <td>Remain</td>\n",
       "      <td>Predominantly Urban</td>\n",
       "      <td>40.8</td>\n",
       "      <td>8.5</td>\n",
       "      <td>27.47</td>\n",
       "      <td>60.4</td>\n",
       "      <td>39.6</td>\n",
       "      <td>34.2</td>\n",
       "      <td>2.5</td>\n",
       "      <td>21212</td>\n",
       "      <td>NaN</td>\n",
       "      <td>NaN</td>\n",
       "      <td>NaN</td>\n",
       "      <td>NaN</td>\n",
       "    </tr>\n",
       "    <tr>\n",
       "      <th>307</th>\n",
       "      <td>E09000015</td>\n",
       "      <td>Harrow</td>\n",
       "      <td>E12000007</td>\n",
       "      <td>London</td>\n",
       "      <td>117225</td>\n",
       "      <td>64042</td>\n",
       "      <td>53183</td>\n",
       "      <td>54.63</td>\n",
       "      <td>45.37</td>\n",
       "      <td>Remain</td>\n",
       "      <td>Predominantly Urban</td>\n",
       "      <td>36.8</td>\n",
       "      <td>6.8</td>\n",
       "      <td>29.55</td>\n",
       "      <td>42.2</td>\n",
       "      <td>57.8</td>\n",
       "      <td>37.4</td>\n",
       "      <td>1.2</td>\n",
       "      <td>22155</td>\n",
       "      <td>NaN</td>\n",
       "      <td>NaN</td>\n",
       "      <td>NaN</td>\n",
       "      <td>NaN</td>\n",
       "    </tr>\n",
       "    <tr>\n",
       "      <th>308</th>\n",
       "      <td>E09000016</td>\n",
       "      <td>Havering</td>\n",
       "      <td>E12000007</td>\n",
       "      <td>London</td>\n",
       "      <td>139086</td>\n",
       "      <td>42201</td>\n",
       "      <td>96885</td>\n",
       "      <td>30.34</td>\n",
       "      <td>69.66</td>\n",
       "      <td>Leave</td>\n",
       "      <td>Predominantly Urban</td>\n",
       "      <td>19.4</td>\n",
       "      <td>3.4</td>\n",
       "      <td>6.43</td>\n",
       "      <td>87.6</td>\n",
       "      <td>12.4</td>\n",
       "      <td>39.7</td>\n",
       "      <td>1.5</td>\n",
       "      <td>20311</td>\n",
       "      <td>NaN</td>\n",
       "      <td>NaN</td>\n",
       "      <td>NaN</td>\n",
       "      <td>NaN</td>\n",
       "    </tr>\n",
       "    <tr>\n",
       "      <th>309</th>\n",
       "      <td>E09000017</td>\n",
       "      <td>Hillingdon</td>\n",
       "      <td>E12000007</td>\n",
       "      <td>London</td>\n",
       "      <td>133022</td>\n",
       "      <td>58040</td>\n",
       "      <td>74982</td>\n",
       "      <td>43.63</td>\n",
       "      <td>56.37</td>\n",
       "      <td>Leave</td>\n",
       "      <td>Predominantly Urban</td>\n",
       "      <td>28.0</td>\n",
       "      <td>8.9</td>\n",
       "      <td>18.46</td>\n",
       "      <td>60.5</td>\n",
       "      <td>39.5</td>\n",
       "      <td>35.3</td>\n",
       "      <td>1.4</td>\n",
       "      <td>41306</td>\n",
       "      <td>NaN</td>\n",
       "      <td>NaN</td>\n",
       "      <td>NaN</td>\n",
       "      <td>NaN</td>\n",
       "    </tr>\n",
       "    <tr>\n",
       "      <th>310</th>\n",
       "      <td>E09000018</td>\n",
       "      <td>Hounslow</td>\n",
       "      <td>E12000007</td>\n",
       "      <td>London</td>\n",
       "      <td>115076</td>\n",
       "      <td>58755</td>\n",
       "      <td>56321</td>\n",
       "      <td>51.06</td>\n",
       "      <td>48.94</td>\n",
       "      <td>Remain</td>\n",
       "      <td>Predominantly Urban</td>\n",
       "      <td>34.6</td>\n",
       "      <td>7.4</td>\n",
       "      <td>27.31</td>\n",
       "      <td>51.3</td>\n",
       "      <td>48.7</td>\n",
       "      <td>35.2</td>\n",
       "      <td>1.0</td>\n",
       "      <td>39219</td>\n",
       "      <td>NaN</td>\n",
       "      <td>NaN</td>\n",
       "      <td>NaN</td>\n",
       "      <td>NaN</td>\n",
       "    </tr>\n",
       "    <tr>\n",
       "      <th>311</th>\n",
       "      <td>E09000019</td>\n",
       "      <td>Islington</td>\n",
       "      <td>E12000007</td>\n",
       "      <td>London</td>\n",
       "      <td>101600</td>\n",
       "      <td>76420</td>\n",
       "      <td>25180</td>\n",
       "      <td>75.22</td>\n",
       "      <td>24.78</td>\n",
       "      <td>Remain</td>\n",
       "      <td>Predominantly Urban</td>\n",
       "      <td>48.1</td>\n",
       "      <td>10.7</td>\n",
       "      <td>23.35</td>\n",
       "      <td>68.1</td>\n",
       "      <td>31.9</td>\n",
       "      <td>32.0</td>\n",
       "      <td>2.1</td>\n",
       "      <td>74851</td>\n",
       "      <td>NaN</td>\n",
       "      <td>NaN</td>\n",
       "      <td>NaN</td>\n",
       "      <td>NaN</td>\n",
       "    </tr>\n",
       "    <tr>\n",
       "      <th>312</th>\n",
       "      <td>E09000020</td>\n",
       "      <td>Kensington and Chelsea</td>\n",
       "      <td>E12000007</td>\n",
       "      <td>London</td>\n",
       "      <td>54739</td>\n",
       "      <td>37601</td>\n",
       "      <td>17138</td>\n",
       "      <td>68.69</td>\n",
       "      <td>31.31</td>\n",
       "      <td>Remain</td>\n",
       "      <td>Predominantly Urban</td>\n",
       "      <td>52.7</td>\n",
       "      <td>8.3</td>\n",
       "      <td>39.10</td>\n",
       "      <td>70.5</td>\n",
       "      <td>29.5</td>\n",
       "      <td>38.5</td>\n",
       "      <td>1.4</td>\n",
       "      <td>70390</td>\n",
       "      <td>NaN</td>\n",
       "      <td>NaN</td>\n",
       "      <td>NaN</td>\n",
       "      <td>NaN</td>\n",
       "    </tr>\n",
       "    <tr>\n",
       "      <th>313</th>\n",
       "      <td>E09000021</td>\n",
       "      <td>Kingston upon Thames</td>\n",
       "      <td>E12000007</td>\n",
       "      <td>London</td>\n",
       "      <td>85270</td>\n",
       "      <td>52533</td>\n",
       "      <td>32737</td>\n",
       "      <td>61.61</td>\n",
       "      <td>38.39</td>\n",
       "      <td>Remain</td>\n",
       "      <td>Predominantly Urban</td>\n",
       "      <td>41.4</td>\n",
       "      <td>10.2</td>\n",
       "      <td>17.24</td>\n",
       "      <td>74.4</td>\n",
       "      <td>25.6</td>\n",
       "      <td>36.2</td>\n",
       "      <td>1.0</td>\n",
       "      <td>27809</td>\n",
       "      <td>NaN</td>\n",
       "      <td>NaN</td>\n",
       "      <td>NaN</td>\n",
       "      <td>NaN</td>\n",
       "    </tr>\n",
       "    <tr>\n",
       "      <th>314</th>\n",
       "      <td>E09000022</td>\n",
       "      <td>Lambeth</td>\n",
       "      <td>E12000007</td>\n",
       "      <td>London</td>\n",
       "      <td>141924</td>\n",
       "      <td>111584</td>\n",
       "      <td>30340</td>\n",
       "      <td>78.62</td>\n",
       "      <td>21.38</td>\n",
       "      <td>Remain</td>\n",
       "      <td>Predominantly Urban</td>\n",
       "      <td>46.6</td>\n",
       "      <td>7.7</td>\n",
       "      <td>22.29</td>\n",
       "      <td>57.0</td>\n",
       "      <td>43.0</td>\n",
       "      <td>32.6</td>\n",
       "      <td>2.5</td>\n",
       "      <td>34723</td>\n",
       "      <td>NaN</td>\n",
       "      <td>NaN</td>\n",
       "      <td>NaN</td>\n",
       "      <td>NaN</td>\n",
       "    </tr>\n",
       "    <tr>\n",
       "      <th>315</th>\n",
       "      <td>E09000023</td>\n",
       "      <td>Lewisham</td>\n",
       "      <td>E12000007</td>\n",
       "      <td>London</td>\n",
       "      <td>124473</td>\n",
       "      <td>86955</td>\n",
       "      <td>37518</td>\n",
       "      <td>69.86</td>\n",
       "      <td>30.14</td>\n",
       "      <td>Remain</td>\n",
       "      <td>Predominantly Urban</td>\n",
       "      <td>38.0</td>\n",
       "      <td>8.5</td>\n",
       "      <td>22.48</td>\n",
       "      <td>53.5</td>\n",
       "      <td>46.5</td>\n",
       "      <td>34.4</td>\n",
       "      <td>2.5</td>\n",
       "      <td>16511</td>\n",
       "      <td>NaN</td>\n",
       "      <td>NaN</td>\n",
       "      <td>NaN</td>\n",
       "      <td>NaN</td>\n",
       "    </tr>\n",
       "    <tr>\n",
       "      <th>316</th>\n",
       "      <td>E09000024</td>\n",
       "      <td>Merton</td>\n",
       "      <td>E12000007</td>\n",
       "      <td>London</td>\n",
       "      <td>100100</td>\n",
       "      <td>63003</td>\n",
       "      <td>37097</td>\n",
       "      <td>62.94</td>\n",
       "      <td>37.06</td>\n",
       "      <td>Remain</td>\n",
       "      <td>Predominantly Urban</td>\n",
       "      <td>41.1</td>\n",
       "      <td>6.0</td>\n",
       "      <td>27.80</td>\n",
       "      <td>64.8</td>\n",
       "      <td>35.2</td>\n",
       "      <td>36.3</td>\n",
       "      <td>1.4</td>\n",
       "      <td>24651</td>\n",
       "      <td>NaN</td>\n",
       "      <td>NaN</td>\n",
       "      <td>NaN</td>\n",
       "      <td>NaN</td>\n",
       "    </tr>\n",
       "    <tr>\n",
       "      <th>317</th>\n",
       "      <td>E09000025</td>\n",
       "      <td>Newham</td>\n",
       "      <td>E12000007</td>\n",
       "      <td>London</td>\n",
       "      <td>104699</td>\n",
       "      <td>55328</td>\n",
       "      <td>49371</td>\n",
       "      <td>52.84</td>\n",
       "      <td>47.16</td>\n",
       "      <td>Remain</td>\n",
       "      <td>Predominantly Urban</td>\n",
       "      <td>30.1</td>\n",
       "      <td>14.9</td>\n",
       "      <td>34.93</td>\n",
       "      <td>28.8</td>\n",
       "      <td>71.2</td>\n",
       "      <td>31.1</td>\n",
       "      <td>1.9</td>\n",
       "      <td>19524</td>\n",
       "      <td>NaN</td>\n",
       "      <td>NaN</td>\n",
       "      <td>NaN</td>\n",
       "      <td>NaN</td>\n",
       "    </tr>\n",
       "    <tr>\n",
       "      <th>318</th>\n",
       "      <td>E09000026</td>\n",
       "      <td>Redbridge</td>\n",
       "      <td>E12000007</td>\n",
       "      <td>London</td>\n",
       "      <td>128233</td>\n",
       "      <td>69213</td>\n",
       "      <td>59020</td>\n",
       "      <td>53.97</td>\n",
       "      <td>46.03</td>\n",
       "      <td>Remain</td>\n",
       "      <td>Predominantly Urban</td>\n",
       "      <td>33.9</td>\n",
       "      <td>7.6</td>\n",
       "      <td>21.48</td>\n",
       "      <td>42.5</td>\n",
       "      <td>57.5</td>\n",
       "      <td>34.9</td>\n",
       "      <td>1.3</td>\n",
       "      <td>17274</td>\n",
       "      <td>NaN</td>\n",
       "      <td>NaN</td>\n",
       "      <td>NaN</td>\n",
       "      <td>NaN</td>\n",
       "    </tr>\n",
       "    <tr>\n",
       "      <th>319</th>\n",
       "      <td>E09000027</td>\n",
       "      <td>Richmond upon Thames</td>\n",
       "      <td>E12000007</td>\n",
       "      <td>London</td>\n",
       "      <td>108806</td>\n",
       "      <td>75396</td>\n",
       "      <td>33410</td>\n",
       "      <td>69.29</td>\n",
       "      <td>30.71</td>\n",
       "      <td>Remain</td>\n",
       "      <td>Predominantly Urban</td>\n",
       "      <td>53.0</td>\n",
       "      <td>4.9</td>\n",
       "      <td>15.31</td>\n",
       "      <td>85.9</td>\n",
       "      <td>14.1</td>\n",
       "      <td>39.9</td>\n",
       "      <td>1.0</td>\n",
       "      <td>34145</td>\n",
       "      <td>NaN</td>\n",
       "      <td>NaN</td>\n",
       "      <td>NaN</td>\n",
       "      <td>NaN</td>\n",
       "    </tr>\n",
       "    <tr>\n",
       "      <th>320</th>\n",
       "      <td>E09000028</td>\n",
       "      <td>Southwark</td>\n",
       "      <td>E12000007</td>\n",
       "      <td>London</td>\n",
       "      <td>129502</td>\n",
       "      <td>94293</td>\n",
       "      <td>35209</td>\n",
       "      <td>72.81</td>\n",
       "      <td>27.19</td>\n",
       "      <td>Remain</td>\n",
       "      <td>Predominantly Urban</td>\n",
       "      <td>43.1</td>\n",
       "      <td>11.5</td>\n",
       "      <td>26.45</td>\n",
       "      <td>54.1</td>\n",
       "      <td>45.9</td>\n",
       "      <td>32.9</td>\n",
       "      <td>2.0</td>\n",
       "      <td>48349</td>\n",
       "      <td>NaN</td>\n",
       "      <td>NaN</td>\n",
       "      <td>NaN</td>\n",
       "      <td>NaN</td>\n",
       "    </tr>\n",
       "    <tr>\n",
       "      <th>321</th>\n",
       "      <td>E09000029</td>\n",
       "      <td>Sutton</td>\n",
       "      <td>E12000007</td>\n",
       "      <td>London</td>\n",
       "      <td>106560</td>\n",
       "      <td>49319</td>\n",
       "      <td>57241</td>\n",
       "      <td>46.28</td>\n",
       "      <td>53.72</td>\n",
       "      <td>Leave</td>\n",
       "      <td>Predominantly Urban</td>\n",
       "      <td>30.1</td>\n",
       "      <td>3.7</td>\n",
       "      <td>15.50</td>\n",
       "      <td>78.5</td>\n",
       "      <td>21.5</td>\n",
       "      <td>38.8</td>\n",
       "      <td>0.6</td>\n",
       "      <td>21049</td>\n",
       "      <td>NaN</td>\n",
       "      <td>NaN</td>\n",
       "      <td>NaN</td>\n",
       "      <td>NaN</td>\n",
       "    </tr>\n",
       "    <tr>\n",
       "      <th>322</th>\n",
       "      <td>E09000030</td>\n",
       "      <td>Tower Hamlets</td>\n",
       "      <td>E12000007</td>\n",
       "      <td>London</td>\n",
       "      <td>108235</td>\n",
       "      <td>73011</td>\n",
       "      <td>35224</td>\n",
       "      <td>67.46</td>\n",
       "      <td>32.54</td>\n",
       "      <td>Remain</td>\n",
       "      <td>Predominantly Urban</td>\n",
       "      <td>41.0</td>\n",
       "      <td>12.1</td>\n",
       "      <td>22.82</td>\n",
       "      <td>45.1</td>\n",
       "      <td>54.9</td>\n",
       "      <td>30.6</td>\n",
       "      <td>2.3</td>\n",
       "      <td>98134</td>\n",
       "      <td>NaN</td>\n",
       "      <td>NaN</td>\n",
       "      <td>NaN</td>\n",
       "      <td>NaN</td>\n",
       "    </tr>\n",
       "    <tr>\n",
       "      <th>323</th>\n",
       "      <td>E09000031</td>\n",
       "      <td>Waltham Forest</td>\n",
       "      <td>E12000007</td>\n",
       "      <td>London</td>\n",
       "      <td>108551</td>\n",
       "      <td>64156</td>\n",
       "      <td>44395</td>\n",
       "      <td>59.10</td>\n",
       "      <td>40.90</td>\n",
       "      <td>Remain</td>\n",
       "      <td>Predominantly Urban</td>\n",
       "      <td>30.0</td>\n",
       "      <td>8.3</td>\n",
       "      <td>25.74</td>\n",
       "      <td>52.1</td>\n",
       "      <td>47.9</td>\n",
       "      <td>34.2</td>\n",
       "      <td>2.3</td>\n",
       "      <td>16812</td>\n",
       "      <td>NaN</td>\n",
       "      <td>NaN</td>\n",
       "      <td>NaN</td>\n",
       "      <td>NaN</td>\n",
       "    </tr>\n",
       "    <tr>\n",
       "      <th>324</th>\n",
       "      <td>E09000032</td>\n",
       "      <td>Wandsworth</td>\n",
       "      <td>E12000007</td>\n",
       "      <td>London</td>\n",
       "      <td>157884</td>\n",
       "      <td>118463</td>\n",
       "      <td>39421</td>\n",
       "      <td>75.03</td>\n",
       "      <td>24.97</td>\n",
       "      <td>Remain</td>\n",
       "      <td>Predominantly Urban</td>\n",
       "      <td>53.6</td>\n",
       "      <td>6.8</td>\n",
       "      <td>25.80</td>\n",
       "      <td>71.4</td>\n",
       "      <td>28.6</td>\n",
       "      <td>33.5</td>\n",
       "      <td>1.4</td>\n",
       "      <td>30216</td>\n",
       "      <td>NaN</td>\n",
       "      <td>NaN</td>\n",
       "      <td>NaN</td>\n",
       "      <td>NaN</td>\n",
       "    </tr>\n",
       "    <tr>\n",
       "      <th>325</th>\n",
       "      <td>E09000033</td>\n",
       "      <td>Westminster</td>\n",
       "      <td>E12000007</td>\n",
       "      <td>London</td>\n",
       "      <td>78196</td>\n",
       "      <td>53928</td>\n",
       "      <td>24268</td>\n",
       "      <td>68.97</td>\n",
       "      <td>31.03</td>\n",
       "      <td>Remain</td>\n",
       "      <td>Predominantly Urban</td>\n",
       "      <td>50.3</td>\n",
       "      <td>10.0</td>\n",
       "      <td>32.93</td>\n",
       "      <td>61.6</td>\n",
       "      <td>38.4</td>\n",
       "      <td>35.5</td>\n",
       "      <td>1.5</td>\n",
       "      <td>221103</td>\n",
       "      <td>NaN</td>\n",
       "      <td>NaN</td>\n",
       "      <td>NaN</td>\n",
       "      <td>NaN</td>\n",
       "    </tr>\n",
       "  </tbody>\n",
       "</table>\n",
       "</div>"
      ],
      "text/plain": [
       "     Area_Code                    Area Region_Code  Region  Valid_Votes  \\\n",
       "293  E09000001          City of London   E12000007  London         4399   \n",
       "294  E09000002    Barking and Dagenham   E12000007  London        73880   \n",
       "295  E09000003                  Barnet   E12000007  London       161033   \n",
       "296  E09000004                  Bexley   E12000007  London       128489   \n",
       "297  E09000005                   Brent   E12000007  London       121404   \n",
       "298  E09000006                 Bromley   E12000007  London       182432   \n",
       "299  E09000007                  Camden   E12000007  London        95133   \n",
       "300  E09000008                 Croydon   E12000007  London       171134   \n",
       "301  E09000009                  Ealing   E12000007  London       149041   \n",
       "302  E09000010                 Enfield   E12000007  London       136906   \n",
       "303  E09000011               Greenwich   E12000007  London       117365   \n",
       "304  E09000012                 Hackney   E12000007  London       106266   \n",
       "305  E09000013  Hammersmith and Fulham   E12000007  London        80242   \n",
       "306  E09000014                Haringey   E12000007  London       105846   \n",
       "307  E09000015                  Harrow   E12000007  London       117225   \n",
       "308  E09000016                Havering   E12000007  London       139086   \n",
       "309  E09000017              Hillingdon   E12000007  London       133022   \n",
       "310  E09000018                Hounslow   E12000007  London       115076   \n",
       "311  E09000019               Islington   E12000007  London       101600   \n",
       "312  E09000020  Kensington and Chelsea   E12000007  London        54739   \n",
       "313  E09000021    Kingston upon Thames   E12000007  London        85270   \n",
       "314  E09000022                 Lambeth   E12000007  London       141924   \n",
       "315  E09000023                Lewisham   E12000007  London       124473   \n",
       "316  E09000024                  Merton   E12000007  London       100100   \n",
       "317  E09000025                  Newham   E12000007  London       104699   \n",
       "318  E09000026               Redbridge   E12000007  London       128233   \n",
       "319  E09000027    Richmond upon Thames   E12000007  London       108806   \n",
       "320  E09000028               Southwark   E12000007  London       129502   \n",
       "321  E09000029                  Sutton   E12000007  London       106560   \n",
       "322  E09000030           Tower Hamlets   E12000007  London       108235   \n",
       "323  E09000031          Waltham Forest   E12000007  London       108551   \n",
       "324  E09000032              Wandsworth   E12000007  London       157884   \n",
       "325  E09000033             Westminster   E12000007  London        78196   \n",
       "\n",
       "     Remain  Leave  Pct_Remain  Pct_Leave Leave? (derived cell)  \\\n",
       "293    3312   1087       75.29      24.71                Remain   \n",
       "294   27750  46130       37.56      62.44                 Leave   \n",
       "295  100210  60823       62.23      37.77                Remain   \n",
       "296   47603  80886       37.05      62.95                 Leave   \n",
       "297   72523  48881       59.74      40.26                Remain   \n",
       "298   92398  90034       50.65      49.35                Remain   \n",
       "299   71295  23838       74.94      25.06                Remain   \n",
       "300   92913  78221       54.29      45.71                Remain   \n",
       "301   90024  59017       60.40      39.60                Remain   \n",
       "302   76425  60481       55.82      44.18                Remain   \n",
       "303   65248  52117       55.59      44.41                Remain   \n",
       "304   83398  22868       78.48      21.52                Remain   \n",
       "305   56188  24054       70.02      29.98                Remain   \n",
       "306   79991  25855       75.57      24.43                Remain   \n",
       "307   64042  53183       54.63      45.37                Remain   \n",
       "308   42201  96885       30.34      69.66                 Leave   \n",
       "309   58040  74982       43.63      56.37                 Leave   \n",
       "310   58755  56321       51.06      48.94                Remain   \n",
       "311   76420  25180       75.22      24.78                Remain   \n",
       "312   37601  17138       68.69      31.31                Remain   \n",
       "313   52533  32737       61.61      38.39                Remain   \n",
       "314  111584  30340       78.62      21.38                Remain   \n",
       "315   86955  37518       69.86      30.14                Remain   \n",
       "316   63003  37097       62.94      37.06                Remain   \n",
       "317   55328  49371       52.84      47.16                Remain   \n",
       "318   69213  59020       53.97      46.03                Remain   \n",
       "319   75396  33410       69.29      30.71                Remain   \n",
       "320   94293  35209       72.81      27.19                Remain   \n",
       "321   49319  57241       46.28      53.72                 Leave   \n",
       "322   73011  35224       67.46      32.54                Remain   \n",
       "323   64156  44395       59.10      40.90                Remain   \n",
       "324  118463  39421       75.03      24.97                Remain   \n",
       "325   53928  24268       68.97      31.03                Remain   \n",
       "\n",
       "           Urban / Rural  % degree educated and higher  % 18+ in FTE  \\\n",
       "293  Predominantly Urban                          68.4           6.2   \n",
       "294  Predominantly Urban                          20.9           7.2   \n",
       "295  Predominantly Urban                          40.3           7.3   \n",
       "296  Predominantly Urban                          21.8           4.5   \n",
       "297  Predominantly Urban                          33.3           9.1   \n",
       "298  Predominantly Urban                          33.1           3.4   \n",
       "299  Predominantly Urban                          50.5          13.6   \n",
       "300  Predominantly Urban                          31.8           5.9   \n",
       "301  Predominantly Urban                          37.0           7.6   \n",
       "302  Predominantly Urban                          28.7           7.0   \n",
       "303  Predominantly Urban                          33.2           8.8   \n",
       "304  Predominantly Urban                          41.8           9.0   \n",
       "305  Predominantly Urban                          49.6           9.0   \n",
       "306  Predominantly Urban                          40.8           8.5   \n",
       "307  Predominantly Urban                          36.8           6.8   \n",
       "308  Predominantly Urban                          19.4           3.4   \n",
       "309  Predominantly Urban                          28.0           8.9   \n",
       "310  Predominantly Urban                          34.6           7.4   \n",
       "311  Predominantly Urban                          48.1          10.7   \n",
       "312  Predominantly Urban                          52.7           8.3   \n",
       "313  Predominantly Urban                          41.4          10.2   \n",
       "314  Predominantly Urban                          46.6           7.7   \n",
       "315  Predominantly Urban                          38.0           8.5   \n",
       "316  Predominantly Urban                          41.1           6.0   \n",
       "317  Predominantly Urban                          30.1          14.9   \n",
       "318  Predominantly Urban                          33.9           7.6   \n",
       "319  Predominantly Urban                          53.0           4.9   \n",
       "320  Predominantly Urban                          43.1          11.5   \n",
       "321  Predominantly Urban                          30.1           3.7   \n",
       "322  Predominantly Urban                          41.0          12.1   \n",
       "323  Predominantly Urban                          30.0           8.3   \n",
       "324  Predominantly Urban                          53.6           6.8   \n",
       "325  Predominantly Urban                          50.3          10.0   \n",
       "\n",
       "     % non-British  % identifying as white  \\\n",
       "293          32.93                    78.6   \n",
       "294          22.44                    58.2   \n",
       "295          23.36                    64.1   \n",
       "296          11.16                    81.6   \n",
       "297          32.00                    36.2   \n",
       "298          12.04                    84.1   \n",
       "299          23.97                    66.2   \n",
       "300          18.21                    55.0   \n",
       "301          32.94                    48.9   \n",
       "302          19.45                    60.9   \n",
       "303          24.82                    62.3   \n",
       "304          24.07                    54.5   \n",
       "305          27.93                    68.0   \n",
       "306          27.47                    60.4   \n",
       "307          29.55                    42.2   \n",
       "308           6.43                    87.6   \n",
       "309          18.46                    60.5   \n",
       "310          27.31                    51.3   \n",
       "311          23.35                    68.1   \n",
       "312          39.10                    70.5   \n",
       "313          17.24                    74.4   \n",
       "314          22.29                    57.0   \n",
       "315          22.48                    53.5   \n",
       "316          27.80                    64.8   \n",
       "317          34.93                    28.8   \n",
       "318          21.48                    42.5   \n",
       "319          15.31                    85.9   \n",
       "320          26.45                    54.1   \n",
       "321          15.50                    78.5   \n",
       "322          22.82                    45.1   \n",
       "323          25.74                    52.1   \n",
       "324          25.80                    71.4   \n",
       "325          32.93                    61.6   \n",
       "\n",
       "     % identifying as non-white (derived cell)  Median Age  % Unemployed  \\\n",
       "293                                       21.4        38.7           0.9   \n",
       "294                                       41.8        32.1           2.5   \n",
       "295                                       35.9        36.3           1.5   \n",
       "296                                       18.4        38.6           1.3   \n",
       "297                                       63.8        34.6           2.3   \n",
       "298                                       15.9        40.5           1.0   \n",
       "299                                       33.8        34.0           1.6   \n",
       "300                                       45.0        36.8           1.6   \n",
       "301                                       51.1        35.9           2.2   \n",
       "302                                       39.1        35.5           2.2   \n",
       "303                                       37.7        34.2           2.2   \n",
       "304                                       45.5        32.3           2.6   \n",
       "305                                       32.0        34.5           2.3   \n",
       "306                                       39.6        34.2           2.5   \n",
       "307                                       57.8        37.4           1.2   \n",
       "308                                       12.4        39.7           1.5   \n",
       "309                                       39.5        35.3           1.4   \n",
       "310                                       48.7        35.2           1.0   \n",
       "311                                       31.9        32.0           2.1   \n",
       "312                                       29.5        38.5           1.4   \n",
       "313                                       25.6        36.2           1.0   \n",
       "314                                       43.0        32.6           2.5   \n",
       "315                                       46.5        34.4           2.5   \n",
       "316                                       35.2        36.3           1.4   \n",
       "317                                       71.2        31.1           1.9   \n",
       "318                                       57.5        34.9           1.3   \n",
       "319                                       14.1        39.9           1.0   \n",
       "320                                       45.9        32.9           2.0   \n",
       "321                                       21.5        38.8           0.6   \n",
       "322                                       54.9        30.6           2.3   \n",
       "323                                       47.9        34.2           2.3   \n",
       "324                                       28.6        33.5           1.4   \n",
       "325                                       38.4        35.5           1.5   \n",
       "\n",
       "     GVA 2015  Unnamed: 19 Unnamed: 20 Unnamed: 21  Unnamed: 22  \n",
       "293   5333112          NaN         NaN         NaN          NaN  \n",
       "294     16514          NaN         NaN         NaN          NaN  \n",
       "295     24760          NaN         NaN         NaN          NaN  \n",
       "296     21255          NaN         NaN         NaN          NaN  \n",
       "297     24630          NaN         NaN         NaN          NaN  \n",
       "298     21907          NaN         NaN         NaN          NaN  \n",
       "299    109694          NaN         NaN         NaN          NaN  \n",
       "300     19481          NaN         NaN         NaN          NaN  \n",
       "301     26465          NaN         NaN         NaN          NaN  \n",
       "302     20091          NaN         NaN         NaN          NaN  \n",
       "303     16890          NaN         NaN         NaN          NaN  \n",
       "304     26970          NaN         NaN         NaN          NaN  \n",
       "305     55434          NaN         NaN         NaN          NaN  \n",
       "306     21212          NaN         NaN         NaN          NaN  \n",
       "307     22155          NaN         NaN         NaN          NaN  \n",
       "308     20311          NaN         NaN         NaN          NaN  \n",
       "309     41306          NaN         NaN         NaN          NaN  \n",
       "310     39219          NaN         NaN         NaN          NaN  \n",
       "311     74851          NaN         NaN         NaN          NaN  \n",
       "312     70390          NaN         NaN         NaN          NaN  \n",
       "313     27809          NaN         NaN         NaN          NaN  \n",
       "314     34723          NaN         NaN         NaN          NaN  \n",
       "315     16511          NaN         NaN         NaN          NaN  \n",
       "316     24651          NaN         NaN         NaN          NaN  \n",
       "317     19524          NaN         NaN         NaN          NaN  \n",
       "318     17274          NaN         NaN         NaN          NaN  \n",
       "319     34145          NaN         NaN         NaN          NaN  \n",
       "320     48349          NaN         NaN         NaN          NaN  \n",
       "321     21049          NaN         NaN         NaN          NaN  \n",
       "322     98134          NaN         NaN         NaN          NaN  \n",
       "323     16812          NaN         NaN         NaN          NaN  \n",
       "324     30216          NaN         NaN         NaN          NaN  \n",
       "325    221103          NaN         NaN         NaN          NaN  "
      ]
     },
     "execution_count": 18,
     "metadata": {},
     "output_type": "execute_result"
    }
   ],
   "source": [
    "df_london"
   ]
  },
  {
   "cell_type": "code",
   "execution_count": 19,
   "metadata": {},
   "outputs": [
    {
     "data": {
      "text/plain": [
       "<AxesSubplot:xlabel='% non-British', ylabel='Pct_Leave'>"
      ]
     },
     "execution_count": 19,
     "metadata": {},
     "output_type": "execute_result"
    },
    {
     "data": {
      "image/png": "[encoded data removed]",
      "text/plain": [
       "<Figure size 432x288 with 1 Axes>"
      ]
     },
     "metadata": {
      "needs_background": "light"
     },
     "output_type": "display_data"
    }
   ],
   "source": [
    "sns.regplot(x=\"% non-British\", y=\"Pct_Leave\", data=df_london)"
   ]
  },
  {
   "cell_type": "markdown",
   "metadata": {},
   "source": [
    "## Presenting the Data <a class=\"anchor\" id=\"data-wrangling\"></a>\n",
    "\n",
    "In this section you pick some of the charts/visualizations produced during the exploration phase to produce a web presentation. These can be static images (pngs) produced by Matplotlib's `savefig` method, or some embeddable Plotly charts, which support user interaction.  "
   ]
  },
  {
   "cell_type": "markdown",
   "metadata": {},
   "source": [
    "### A selection of static charts <a class=\"anchor\" id=\"static-charts\"></a>\n",
    "\n",
    "Here you would show off your selection of static charts, produced during the exploratory phase. You will probably refine these charts for presentation, improving labelling, font sizes etc. \n"
   ]
  },
  {
   "cell_type": "markdown",
   "metadata": {},
   "source": [
    "### Some Plotly charts <a class=\"anchor\" id=\"plotly-charts\"></a>\n",
    "\n",
    "\n",
    "If you need the added power of Plotly or some of Plotly's specialized charts, here is where you would present them. Plotly excells at things like maps and offers the possibility of user interactions, which provide opportunities to let your user explore the data themselves. "
   ]
  },
  {
   "cell_type": "code",
   "execution_count": 20,
   "metadata": {},
   "outputs": [
    {
     "data": {
      "text/html": [
       "        <script type=\"text/javascript\">\n",
       "        window.PlotlyConfig = {MathJaxConfig: 'local'};\n",
       "        if (window.MathJax) {MathJax.Hub.Config({SVG: {font: \"STIX-Web\"}});}\n",
       "        if (typeof require !== 'undefined') {\n",
       "        require.undef(\"plotly\");\n",
       "        requirejs.config({\n",
       "            paths: {\n",
       "                'plotly': ['https://cdn.plot.ly/plotly-latest.min']\n",
       "            }\n",
       "        });\n",
       "        require(['plotly'], function(Plotly) {\n",
       "            window._Plotly = Plotly;\n",
       "        });\n",
       "        }\n",
       "        </script>\n",
       "        "
      ]
     },
     "metadata": {},
     "output_type": "display_data"
    }
   ],
   "source": [
    "import plotly.graph_objs as go\n",
    "from plotly.offline import download_plotlyjs, init_notebook_mode, plot, iplot\n",
    "init_notebook_mode(connected=True)"
   ]
  },
  {
   "cell_type": "code",
   "execution_count": 21,
   "metadata": {},
   "outputs": [
    {
     "data": {
      "application/vnd.plotly.v1+json": {
       "config": {
        "linkText": "Export to plot.ly",
        "plotlyServerURL": "https://plot.ly",
        "showLink": false
       },
       "data": [
        {
         "name": "Remain",
         "orientation": "h",
         "type": "bar",
         "x": [
          53928,
          118463,
          64156,
          73011,
          49319,
          94293,
          75396,
          69213,
          55328,
          63003,
          86955,
          111584,
          52533,
          37601,
          76420,
          58755,
          58040,
          42201,
          64042,
          79991,
          56188,
          83398,
          65248,
          76425,
          90024,
          92913,
          3312,
          71295,
          92398,
          72523,
          47603,
          100210,
          27750
         ],
         "y": [
          "Westminster",
          "Wandsworth",
          "Waltham Forest",
          "Tower Hamlets",
          "Sutton",
          "Southwark",
          "Richmond upon Thames",
          "Redbridge",
          "Newham",
          "Merton",
          "Lewisham",
          "Lambeth",
          "Kingston upon Thames",
          "Kensington and Chelsea",
          "Islington",
          "Hounslow",
          "Hillingdon",
          "Havering",
          "Harrow",
          "Haringey",
          "Hammersmith and Fulham",
          "Hackney",
          "Greenwich",
          "Enfield",
          "Ealing",
          "Croydon",
          "City of London",
          "Camden",
          "Bromley",
          "Brent",
          "Bexley",
          "Barnet",
          "Barking and Dagenham"
         ]
        },
        {
         "name": "Leave",
         "orientation": "h",
         "type": "bar",
         "x": [
          24268,
          39421,
          44395,
          35224,
          57241,
          35209,
          33410,
          59020,
          49371,
          37097,
          37518,
          30340,
          32737,
          17138,
          25180,
          56321,
          74982,
          96885,
          53183,
          25855,
          24054,
          22868,
          52117,
          60481,
          59017,
          78221,
          1087,
          23838,
          90034,
          48881,
          80886,
          60823,
          46130
         ],
         "y": [
          "Westminster",
          "Wandsworth",
          "Waltham Forest",
          "Tower Hamlets",
          "Sutton",
          "Southwark",
          "Richmond upon Thames",
          "Redbridge",
          "Newham",
          "Merton",
          "Lewisham",
          "Lambeth",
          "Kingston upon Thames",
          "Kensington and Chelsea",
          "Islington",
          "Hounslow",
          "Hillingdon",
          "Havering",
          "Harrow",
          "Haringey",
          "Hammersmith and Fulham",
          "Hackney",
          "Greenwich",
          "Enfield",
          "Ealing",
          "Croydon",
          "City of London",
          "Camden",
          "Bromley",
          "Brent",
          "Bexley",
          "Barnet",
          "Barking and Dagenham"
         ]
        }
       ],
       "layout": {
        "barmode": "group",
        "height": 800,
        "margin": {
         "l": 150
        },
        "template": {
         "data": {
          "bar": [
           {
            "error_x": {
             "color": "#2a3f5f"
            },
            "error_y": {
             "color": "#2a3f5f"
            },
            "marker": {
             "line": {
              "color": "#E5ECF6",
              "width": 0.5
             }
            },
            "type": "bar"
           }
          ],
          "barpolar": [
           {
            "marker": {
             "line": {
              "color": "#E5ECF6",
              "width": 0.5
             }
            },
            "type": "barpolar"
           }
          ],
          "carpet": [
           {
            "aaxis": {
             "endlinecolor": "#2a3f5f",
             "gridcolor": "white",
             "linecolor": "white",
             "minorgridcolor": "white",
             "startlinecolor": "#2a3f5f"
            },
            "baxis": {
             "endlinecolor": "#2a3f5f",
             "gridcolor": "white",
             "linecolor": "white",
             "minorgridcolor": "white",
             "startlinecolor": "#2a3f5f"
            },
            "type": "carpet"
           }
          ],
          "choropleth": [
           {
            "colorbar": {
             "outlinewidth": 0,
             "ticks": ""
            },
            "type": "choropleth"
           }
          ],
          "contour": [
           {
            "colorbar": {
             "outlinewidth": 0,
             "ticks": ""
            },
            "colorscale": [
             [
              0,
              "#0d0887"
             ],
             [
              0.1111111111111111,
              "#46039f"
             ],
             [
              0.2222222222222222,
              "#7201a8"
             ],
             [
              0.3333333333333333,
              "#9c179e"
             ],
             [
              0.4444444444444444,
              "#bd3786"
             ],
             [
              0.5555555555555556,
              "#d8576b"
             ],
             [
              0.6666666666666666,
              "#ed7953"
             ],
             [
              0.7777777777777778,
              "#fb9f3a"
             ],
             [
              0.8888888888888888,
              "#fdca26"
             ],
             [
              1,
              "#f0f921"
             ]
            ],
            "type": "contour"
           }
          ],
          "contourcarpet": [
           {
            "colorbar": {
             "outlinewidth": 0,
             "ticks": ""
            },
            "type": "contourcarpet"
           }
          ],
          "heatmap": [
           {
            "colorbar": {
             "outlinewidth": 0,
             "ticks": ""
            },
            "colorscale": [
             [
              0,
              "#0d0887"
             ],
             [
              0.1111111111111111,
              "#46039f"
             ],
             [
              0.2222222222222222,
              "#7201a8"
             ],
             [
              0.3333333333333333,
              "#9c179e"
             ],
             [
              0.4444444444444444,
              "#bd3786"
             ],
             [
              0.5555555555555556,
              "#d8576b"
             ],
             [
              0.6666666666666666,
              "#ed7953"
             ],
             [
              0.7777777777777778,
              "#fb9f3a"
             ],
             [
              0.8888888888888888,
              "#fdca26"
             ],
             [
              1,
              "#f0f921"
             ]
            ],
            "type": "heatmap"
           }
          ],
          "heatmapgl": [
           {
            "colorbar": {
             "outlinewidth": 0,
             "ticks": ""
            },
            "colorscale": [
             [
              0,
              "#0d0887"
             ],
             [
              0.1111111111111111,
              "#46039f"
             ],
             [
              0.2222222222222222,
              "#7201a8"
             ],
             [
              0.3333333333333333,
              "#9c179e"
             ],
             [
              0.4444444444444444,
              "#bd3786"
             ],
             [
              0.5555555555555556,
              "#d8576b"
             ],
             [
              0.6666666666666666,
              "#ed7953"
             ],
             [
              0.7777777777777778,
              "#fb9f3a"
             ],
             [
              0.8888888888888888,
              "#fdca26"
             ],
             [
              1,
              "#f0f921"
             ]
            ],
            "type": "heatmapgl"
           }
          ],
          "histogram": [
           {
            "marker": {
             "colorbar": {
              "outlinewidth": 0,
              "ticks": ""
             }
            },
            "type": "histogram"
           }
          ],
          "histogram2d": [
           {
            "colorbar": {
             "outlinewidth": 0,
             "ticks": ""
            },
            "colorscale": [
             [
              0,
              "#0d0887"
             ],
             [
              0.1111111111111111,
              "#46039f"
             ],
             [
              0.2222222222222222,
              "#7201a8"
             ],
             [
              0.3333333333333333,
              "#9c179e"
             ],
             [
              0.4444444444444444,
              "#bd3786"
             ],
             [
              0.5555555555555556,
              "#d8576b"
             ],
             [
              0.6666666666666666,
              "#ed7953"
             ],
             [
              0.7777777777777778,
              "#fb9f3a"
             ],
             [
              0.8888888888888888,
              "#fdca26"
             ],
             [
              1,
              "#f0f921"
             ]
            ],
            "type": "histogram2d"
           }
          ],
          "histogram2dcontour": [
           {
            "colorbar": {
             "outlinewidth": 0,
             "ticks": ""
            },
            "colorscale": [
             [
              0,
              "#0d0887"
             ],
             [
              0.1111111111111111,
              "#46039f"
             ],
             [
              0.2222222222222222,
              "#7201a8"
             ],
             [
              0.3333333333333333,
              "#9c179e"
             ],
             [
              0.4444444444444444,
              "#bd3786"
             ],
             [
              0.5555555555555556,
              "#d8576b"
             ],
             [
              0.6666666666666666,
              "#ed7953"
             ],
             [
              0.7777777777777778,
              "#fb9f3a"
             ],
             [
              0.8888888888888888,
              "#fdca26"
             ],
             [
              1,
              "#f0f921"
             ]
            ],
            "type": "histogram2dcontour"
           }
          ],
          "mesh3d": [
           {
            "colorbar": {
             "outlinewidth": 0,
             "ticks": ""
            },
            "type": "mesh3d"
           }
          ],
          "parcoords": [
           {
            "line": {
             "colorbar": {
              "outlinewidth": 0,
              "ticks": ""
             }
            },
            "type": "parcoords"
           }
          ],
          "pie": [
           {
            "automargin": true,
            "type": "pie"
           }
          ],
          "scatter": [
           {
            "marker": {
             "colorbar": {
              "outlinewidth": 0,
              "ticks": ""
             }
            },
            "type": "scatter"
           }
          ],
          "scatter3d": [
           {
            "line": {
             "colorbar": {
              "outlinewidth": 0,
              "ticks": ""
             }
            },
            "marker": {
             "colorbar": {
              "outlinewidth": 0,
              "ticks": ""
             }
            },
            "type": "scatter3d"
           }
          ],
          "scattercarpet": [
           {
            "marker": {
             "colorbar": {
              "outlinewidth": 0,
              "ticks": ""
             }
            },
            "type": "scattercarpet"
           }
          ],
          "scattergeo": [
           {
            "marker": {
             "colorbar": {
              "outlinewidth": 0,
              "ticks": ""
             }
            },
            "type": "scattergeo"
           }
          ],
          "scattergl": [
           {
            "marker": {
             "colorbar": {
              "outlinewidth": 0,
              "ticks": ""
             }
            },
            "type": "scattergl"
           }
          ],
          "scattermapbox": [
           {
            "marker": {
             "colorbar": {
              "outlinewidth": 0,
              "ticks": ""
             }
            },
            "type": "scattermapbox"
           }
          ],
          "scatterpolar": [
           {
            "marker": {
             "colorbar": {
              "outlinewidth": 0,
              "ticks": ""
             }
            },
            "type": "scatterpolar"
           }
          ],
          "scatterpolargl": [
           {
            "marker": {
             "colorbar": {
              "outlinewidth": 0,
              "ticks": ""
             }
            },
            "type": "scatterpolargl"
           }
          ],
          "scatterternary": [
           {
            "marker": {
             "colorbar": {
              "outlinewidth": 0,
              "ticks": ""
             }
            },
            "type": "scatterternary"
           }
          ],
          "surface": [
           {
            "colorbar": {
             "outlinewidth": 0,
             "ticks": ""
            },
            "colorscale": [
             [
              0,
              "#0d0887"
             ],
             [
              0.1111111111111111,
              "#46039f"
             ],
             [
              0.2222222222222222,
              "#7201a8"
             ],
             [
              0.3333333333333333,
              "#9c179e"
             ],
             [
              0.4444444444444444,
              "#bd3786"
             ],
             [
              0.5555555555555556,
              "#d8576b"
             ],
             [
              0.6666666666666666,
              "#ed7953"
             ],
             [
              0.7777777777777778,
              "#fb9f3a"
             ],
             [
              0.8888888888888888,
              "#fdca26"
             ],
             [
              1,
              "#f0f921"
             ]
            ],
            "type": "surface"
           }
          ],
          "table": [
           {
            "cells": {
             "fill": {
              "color": "#EBF0F8"
             },
             "line": {
              "color": "white"
             }
            },
            "header": {
             "fill": {
              "color": "#C8D4E3"
             },
             "line": {
              "color": "white"
             }
            },
            "type": "table"
           }
          ]
         },
         "layout": {
          "annotationdefaults": {
           "arrowcolor": "#2a3f5f",
           "arrowhead": 0,
           "arrowwidth": 1
          },
          "autotypenumbers": "strict",
          "coloraxis": {
           "colorbar": {
            "outlinewidth": 0,
            "ticks": ""
           }
          },
          "colorscale": {
           "diverging": [
            [
             0,
             "#8e0152"
            ],
            [
             0.1,
             "#c51b7d"
            ],
            [
             0.2,
             "#de77ae"
            ],
            [
             0.3,
             "#f1b6da"
            ],
            [
             0.4,
             "#fde0ef"
            ],
            [
             0.5,
             "#f7f7f7"
            ],
            [
             0.6,
             "#e6f5d0"
            ],
            [
             0.7,
             "#b8e186"
            ],
            [
             0.8,
             "#7fbc41"
            ],
            [
             0.9,
             "#4d9221"
            ],
            [
             1,
             "#276419"
            ]
           ],
           "sequential": [
            [
             0,
             "#0d0887"
            ],
            [
             0.1111111111111111,
             "#46039f"
            ],
            [
             0.2222222222222222,
             "#7201a8"
            ],
            [
             0.3333333333333333,
             "#9c179e"
            ],
            [
             0.4444444444444444,
             "#bd3786"
            ],
            [
             0.5555555555555556,
             "#d8576b"
            ],
            [
             0.6666666666666666,
             "#ed7953"
            ],
            [
             0.7777777777777778,
             "#fb9f3a"
            ],
            [
             0.8888888888888888,
             "#fdca26"
            ],
            [
             1,
             "#f0f921"
            ]
           ],
           "sequentialminus": [
            [
             0,
             "#0d0887"
            ],
            [
             0.1111111111111111,
             "#46039f"
            ],
            [
             0.2222222222222222,
             "#7201a8"
            ],
            [
             0.3333333333333333,
             "#9c179e"
            ],
            [
             0.4444444444444444,
             "#bd3786"
            ],
            [
             0.5555555555555556,
             "#d8576b"
            ],
            [
             0.6666666666666666,
             "#ed7953"
            ],
            [
             0.7777777777777778,
             "#fb9f3a"
            ],
            [
             0.8888888888888888,
             "#fdca26"
            ],
            [
             1,
             "#f0f921"
            ]
           ]
          },
          "colorway": [
           "#636efa",
           "#EF553B",
           "#00cc96",
           "#ab63fa",
           "#FFA15A",
           "#19d3f3",
           "#FF6692",
           "#B6E880",
           "#FF97FF",
           "#FECB52"
          ],
          "font": {
           "color": "#2a3f5f"
          },
          "geo": {
           "bgcolor": "white",
           "lakecolor": "white",
           "landcolor": "#E5ECF6",
           "showlakes": true,
           "showland": true,
           "subunitcolor": "white"
          },
          "hoverlabel": {
           "align": "left"
          },
          "hovermode": "closest",
          "mapbox": {
           "style": "light"
          },
          "paper_bgcolor": "white",
          "plot_bgcolor": "#E5ECF6",
          "polar": {
           "angularaxis": {
            "gridcolor": "white",
            "linecolor": "white",
            "ticks": ""
           },
           "bgcolor": "#E5ECF6",
           "radialaxis": {
            "gridcolor": "white",
            "linecolor": "white",
            "ticks": ""
           }
          },
          "scene": {
           "xaxis": {
            "backgroundcolor": "#E5ECF6",
            "gridcolor": "white",
            "gridwidth": 2,
            "linecolor": "white",
            "showbackground": true,
            "ticks": "",
            "zerolinecolor": "white"
           },
           "yaxis": {
            "backgroundcolor": "#E5ECF6",
            "gridcolor": "white",
            "gridwidth": 2,
            "linecolor": "white",
            "showbackground": true,
            "ticks": "",
            "zerolinecolor": "white"
           },
           "zaxis": {
            "backgroundcolor": "#E5ECF6",
            "gridcolor": "white",
            "gridwidth": 2,
            "linecolor": "white",
            "showbackground": true,
            "ticks": "",
            "zerolinecolor": "white"
           }
          },
          "shapedefaults": {
           "line": {
            "color": "#2a3f5f"
           }
          },
          "ternary": {
           "aaxis": {
            "gridcolor": "white",
            "linecolor": "white",
            "ticks": ""
           },
           "baxis": {
            "gridcolor": "white",
            "linecolor": "white",
            "ticks": ""
           },
           "bgcolor": "#E5ECF6",
           "caxis": {
            "gridcolor": "white",
            "linecolor": "white",
            "ticks": ""
           }
          },
          "title": {
           "x": 0.05
          },
          "xaxis": {
           "automargin": true,
           "gridcolor": "white",
           "linecolor": "white",
           "ticks": "",
           "title": {
            "standoff": 15
           },
           "zerolinecolor": "white",
           "zerolinewidth": 2
          },
          "yaxis": {
           "automargin": true,
           "gridcolor": "white",
           "linecolor": "white",
           "ticks": "",
           "title": {
            "standoff": 15
           },
           "zerolinecolor": "white",
           "zerolinewidth": 2
          }
         }
        },
        "width": 600,
        "xaxis": {
         "autorange": true,
         "range": [
          0,
          124697.8947368421
         ],
         "type": "linear"
        },
        "yaxis": {
         "autorange": true,
         "range": [
          -0.5,
          32.5
         ],
         "type": "category"
        }
       }
      },
      "image/png": "[encoded data removed]",
      "text/html": [
       "<div>                            <div id=\"9703bc01-6005-4c57-8c32-dd0df21fb8f9\" class=\"plotly-graph-div\" style=\"height:800px; width:600px;\"></div>            <script type=\"text/javascript\">                require([\"plotly\"], function(Plotly) {                    window.PLOTLYENV=window.PLOTLYENV || {};                                    if (document.getElementById(\"9703bc01-6005-4c57-8c32-dd0df21fb8f9\")) {                    Plotly.newPlot(                        \"9703bc01-6005-4c57-8c32-dd0df21fb8f9\",                        [{\"name\": \"Remain\", \"orientation\": \"h\", \"type\": \"bar\", \"x\": [53928, 118463, 64156, 73011, 49319, 94293, 75396, 69213, 55328, 63003, 86955, 111584, 52533, 37601, 76420, 58755, 58040, 42201, 64042, 79991, 56188, 83398, 65248, 76425, 90024, 92913, 3312, 71295, 92398, 72523, 47603, 100210, 27750], \"y\": [\"Westminster\", \"Wandsworth\", \"Waltham Forest\", \"Tower Hamlets\", \"Sutton\", \"Southwark\", \"Richmond upon Thames\", \"Redbridge\", \"Newham\", \"Merton\", \"Lewisham\", \"Lambeth\", \"Kingston upon Thames\", \"Kensington and Chelsea\", \"Islington\", \"Hounslow\", \"Hillingdon\", \"Havering\", \"Harrow\", \"Haringey\", \"Hammersmith and Fulham\", \"Hackney\", \"Greenwich\", \"Enfield\", \"Ealing\", \"Croydon\", \"City of London\", \"Camden\", \"Bromley\", \"Brent\", \"Bexley\", \"Barnet\", \"Barking and Dagenham\"]}, {\"name\": \"Leave\", \"orientation\": \"h\", \"type\": \"bar\", \"x\": [24268, 39421, 44395, 35224, 57241, 35209, 33410, 59020, 49371, 37097, 37518, 30340, 32737, 17138, 25180, 56321, 74982, 96885, 53183, 25855, 24054, 22868, 52117, 60481, 59017, 78221, 1087, 23838, 90034, 48881, 80886, 60823, 46130], \"y\": [\"Westminster\", \"Wandsworth\", \"Waltham Forest\", \"Tower Hamlets\", \"Sutton\", \"Southwark\", \"Richmond upon Thames\", \"Redbridge\", \"Newham\", \"Merton\", \"Lewisham\", \"Lambeth\", \"Kingston upon Thames\", \"Kensington and Chelsea\", \"Islington\", \"Hounslow\", \"Hillingdon\", \"Havering\", \"Harrow\", \"Haringey\", \"Hammersmith and Fulham\", \"Hackney\", \"Greenwich\", \"Enfield\", \"Ealing\", \"Croydon\", \"City of London\", \"Camden\", \"Bromley\", \"Brent\", \"Bexley\", \"Barnet\", \"Barking and Dagenham\"]}],                        {\"barmode\": \"group\", \"height\": 800, \"margin\": {\"l\": 150}, \"template\": {\"data\": {\"bar\": [{\"error_x\": {\"color\": \"#2a3f5f\"}, \"error_y\": {\"color\": \"#2a3f5f\"}, \"marker\": {\"line\": {\"color\": \"#E5ECF6\", \"width\": 0.5}}, \"type\": \"bar\"}], \"barpolar\": [{\"marker\": {\"line\": {\"color\": \"#E5ECF6\", \"width\": 0.5}}, \"type\": \"barpolar\"}], \"carpet\": [{\"aaxis\": {\"endlinecolor\": \"#2a3f5f\", \"gridcolor\": \"white\", \"linecolor\": \"white\", \"minorgridcolor\": \"white\", \"startlinecolor\": \"#2a3f5f\"}, \"baxis\": {\"endlinecolor\": \"#2a3f5f\", \"gridcolor\": \"white\", \"linecolor\": \"white\", \"minorgridcolor\": \"white\", \"startlinecolor\": \"#2a3f5f\"}, \"type\": \"carpet\"}], \"choropleth\": [{\"colorbar\": {\"outlinewidth\": 0, \"ticks\": \"\"}, \"type\": \"choropleth\"}], \"contour\": [{\"colorbar\": {\"outlinewidth\": 0, \"ticks\": \"\"}, \"colorscale\": [[0.0, \"#0d0887\"], [0.1111111111111111, \"#46039f\"], [0.2222222222222222, \"#7201a8\"], [0.3333333333333333, \"#9c179e\"], [0.4444444444444444, \"#bd3786\"], [0.5555555555555556, \"#d8576b\"], [0.6666666666666666, \"#ed7953\"], [0.7777777777777778, \"#fb9f3a\"], [0.8888888888888888, \"#fdca26\"], [1.0, \"#f0f921\"]], \"type\": \"contour\"}], \"contourcarpet\": [{\"colorbar\": {\"outlinewidth\": 0, \"ticks\": \"\"}, \"type\": \"contourcarpet\"}], \"heatmap\": [{\"colorbar\": {\"outlinewidth\": 0, \"ticks\": \"\"}, \"colorscale\": [[0.0, \"#0d0887\"], [0.1111111111111111, \"#46039f\"], [0.2222222222222222, \"#7201a8\"], [0.3333333333333333, \"#9c179e\"], [0.4444444444444444, \"#bd3786\"], [0.5555555555555556, \"#d8576b\"], [0.6666666666666666, \"#ed7953\"], [0.7777777777777778, \"#fb9f3a\"], [0.8888888888888888, \"#fdca26\"], [1.0, \"#f0f921\"]], \"type\": \"heatmap\"}], \"heatmapgl\": [{\"colorbar\": {\"outlinewidth\": 0, \"ticks\": \"\"}, \"colorscale\": [[0.0, \"#0d0887\"], [0.1111111111111111, \"#46039f\"], [0.2222222222222222, \"#7201a8\"], [0.3333333333333333, \"#9c179e\"], [0.4444444444444444, \"#bd3786\"], [0.5555555555555556, \"#d8576b\"], [0.6666666666666666, \"#ed7953\"], [0.7777777777777778, \"#fb9f3a\"], [0.8888888888888888, \"#fdca26\"], [1.0, \"#f0f921\"]], \"type\": \"heatmapgl\"}], \"histogram\": [{\"marker\": {\"colorbar\": {\"outlinewidth\": 0, \"ticks\": \"\"}}, \"type\": \"histogram\"}], \"histogram2d\": [{\"colorbar\": {\"outlinewidth\": 0, \"ticks\": \"\"}, \"colorscale\": [[0.0, \"#0d0887\"], [0.1111111111111111, \"#46039f\"], [0.2222222222222222, \"#7201a8\"], [0.3333333333333333, \"#9c179e\"], [0.4444444444444444, \"#bd3786\"], [0.5555555555555556, \"#d8576b\"], [0.6666666666666666, \"#ed7953\"], [0.7777777777777778, \"#fb9f3a\"], [0.8888888888888888, \"#fdca26\"], [1.0, \"#f0f921\"]], \"type\": \"histogram2d\"}], \"histogram2dcontour\": [{\"colorbar\": {\"outlinewidth\": 0, \"ticks\": \"\"}, \"colorscale\": [[0.0, \"#0d0887\"], [0.1111111111111111, \"#46039f\"], [0.2222222222222222, \"#7201a8\"], [0.3333333333333333, \"#9c179e\"], [0.4444444444444444, \"#bd3786\"], [0.5555555555555556, \"#d8576b\"], [0.6666666666666666, \"#ed7953\"], [0.7777777777777778, \"#fb9f3a\"], [0.8888888888888888, \"#fdca26\"], [1.0, \"#f0f921\"]], \"type\": \"histogram2dcontour\"}], \"mesh3d\": [{\"colorbar\": {\"outlinewidth\": 0, \"ticks\": \"\"}, \"type\": \"mesh3d\"}], \"parcoords\": [{\"line\": {\"colorbar\": {\"outlinewidth\": 0, \"ticks\": \"\"}}, \"type\": \"parcoords\"}], \"pie\": [{\"automargin\": true, \"type\": \"pie\"}], \"scatter\": [{\"marker\": {\"colorbar\": {\"outlinewidth\": 0, \"ticks\": \"\"}}, \"type\": \"scatter\"}], \"scatter3d\": [{\"line\": {\"colorbar\": {\"outlinewidth\": 0, \"ticks\": \"\"}}, \"marker\": {\"colorbar\": {\"outlinewidth\": 0, \"ticks\": \"\"}}, \"type\": \"scatter3d\"}], \"scattercarpet\": [{\"marker\": {\"colorbar\": {\"outlinewidth\": 0, \"ticks\": \"\"}}, \"type\": \"scattercarpet\"}], \"scattergeo\": [{\"marker\": {\"colorbar\": {\"outlinewidth\": 0, \"ticks\": \"\"}}, \"type\": \"scattergeo\"}], \"scattergl\": [{\"marker\": {\"colorbar\": {\"outlinewidth\": 0, \"ticks\": \"\"}}, \"type\": \"scattergl\"}], \"scattermapbox\": [{\"marker\": {\"colorbar\": {\"outlinewidth\": 0, \"ticks\": \"\"}}, \"type\": \"scattermapbox\"}], \"scatterpolar\": [{\"marker\": {\"colorbar\": {\"outlinewidth\": 0, \"ticks\": \"\"}}, \"type\": \"scatterpolar\"}], \"scatterpolargl\": [{\"marker\": {\"colorbar\": {\"outlinewidth\": 0, \"ticks\": \"\"}}, \"type\": \"scatterpolargl\"}], \"scatterternary\": [{\"marker\": {\"colorbar\": {\"outlinewidth\": 0, \"ticks\": \"\"}}, \"type\": \"scatterternary\"}], \"surface\": [{\"colorbar\": {\"outlinewidth\": 0, \"ticks\": \"\"}, \"colorscale\": [[0.0, \"#0d0887\"], [0.1111111111111111, \"#46039f\"], [0.2222222222222222, \"#7201a8\"], [0.3333333333333333, \"#9c179e\"], [0.4444444444444444, \"#bd3786\"], [0.5555555555555556, \"#d8576b\"], [0.6666666666666666, \"#ed7953\"], [0.7777777777777778, \"#fb9f3a\"], [0.8888888888888888, \"#fdca26\"], [1.0, \"#f0f921\"]], \"type\": \"surface\"}], \"table\": [{\"cells\": {\"fill\": {\"color\": \"#EBF0F8\"}, \"line\": {\"color\": \"white\"}}, \"header\": {\"fill\": {\"color\": \"#C8D4E3\"}, \"line\": {\"color\": \"white\"}}, \"type\": \"table\"}]}, \"layout\": {\"annotationdefaults\": {\"arrowcolor\": \"#2a3f5f\", \"arrowhead\": 0, \"arrowwidth\": 1}, \"autotypenumbers\": \"strict\", \"coloraxis\": {\"colorbar\": {\"outlinewidth\": 0, \"ticks\": \"\"}}, \"colorscale\": {\"diverging\": [[0, \"#8e0152\"], [0.1, \"#c51b7d\"], [0.2, \"#de77ae\"], [0.3, \"#f1b6da\"], [0.4, \"#fde0ef\"], [0.5, \"#f7f7f7\"], [0.6, \"#e6f5d0\"], [0.7, \"#b8e186\"], [0.8, \"#7fbc41\"], [0.9, \"#4d9221\"], [1, \"#276419\"]], \"sequential\": [[0.0, \"#0d0887\"], [0.1111111111111111, \"#46039f\"], [0.2222222222222222, \"#7201a8\"], [0.3333333333333333, \"#9c179e\"], [0.4444444444444444, \"#bd3786\"], [0.5555555555555556, \"#d8576b\"], [0.6666666666666666, \"#ed7953\"], [0.7777777777777778, \"#fb9f3a\"], [0.8888888888888888, \"#fdca26\"], [1.0, \"#f0f921\"]], \"sequentialminus\": [[0.0, \"#0d0887\"], [0.1111111111111111, \"#46039f\"], [0.2222222222222222, \"#7201a8\"], [0.3333333333333333, \"#9c179e\"], [0.4444444444444444, \"#bd3786\"], [0.5555555555555556, \"#d8576b\"], [0.6666666666666666, \"#ed7953\"], [0.7777777777777778, \"#fb9f3a\"], [0.8888888888888888, \"#fdca26\"], [1.0, \"#f0f921\"]]}, \"colorway\": [\"#636efa\", \"#EF553B\", \"#00cc96\", \"#ab63fa\", \"#FFA15A\", \"#19d3f3\", \"#FF6692\", \"#B6E880\", \"#FF97FF\", \"#FECB52\"], \"font\": {\"color\": \"#2a3f5f\"}, \"geo\": {\"bgcolor\": \"white\", \"lakecolor\": \"white\", \"landcolor\": \"#E5ECF6\", \"showlakes\": true, \"showland\": true, \"subunitcolor\": \"white\"}, \"hoverlabel\": {\"align\": \"left\"}, \"hovermode\": \"closest\", \"mapbox\": {\"style\": \"light\"}, \"paper_bgcolor\": \"white\", \"plot_bgcolor\": \"#E5ECF6\", \"polar\": {\"angularaxis\": {\"gridcolor\": \"white\", \"linecolor\": \"white\", \"ticks\": \"\"}, \"bgcolor\": \"#E5ECF6\", \"radialaxis\": {\"gridcolor\": \"white\", \"linecolor\": \"white\", \"ticks\": \"\"}}, \"scene\": {\"xaxis\": {\"backgroundcolor\": \"#E5ECF6\", \"gridcolor\": \"white\", \"gridwidth\": 2, \"linecolor\": \"white\", \"showbackground\": true, \"ticks\": \"\", \"zerolinecolor\": \"white\"}, \"yaxis\": {\"backgroundcolor\": \"#E5ECF6\", \"gridcolor\": \"white\", \"gridwidth\": 2, \"linecolor\": \"white\", \"showbackground\": true, \"ticks\": \"\", \"zerolinecolor\": \"white\"}, \"zaxis\": {\"backgroundcolor\": \"#E5ECF6\", \"gridcolor\": \"white\", \"gridwidth\": 2, \"linecolor\": \"white\", \"showbackground\": true, \"ticks\": \"\", \"zerolinecolor\": \"white\"}}, \"shapedefaults\": {\"line\": {\"color\": \"#2a3f5f\"}}, \"ternary\": {\"aaxis\": {\"gridcolor\": \"white\", \"linecolor\": \"white\", \"ticks\": \"\"}, \"baxis\": {\"gridcolor\": \"white\", \"linecolor\": \"white\", \"ticks\": \"\"}, \"bgcolor\": \"#E5ECF6\", \"caxis\": {\"gridcolor\": \"white\", \"linecolor\": \"white\", \"ticks\": \"\"}}, \"title\": {\"x\": 0.05}, \"xaxis\": {\"automargin\": true, \"gridcolor\": \"white\", \"linecolor\": \"white\", \"ticks\": \"\", \"title\": {\"standoff\": 15}, \"zerolinecolor\": \"white\", \"zerolinewidth\": 2}, \"yaxis\": {\"automargin\": true, \"gridcolor\": \"white\", \"linecolor\": \"white\", \"ticks\": \"\", \"title\": {\"standoff\": 15}, \"zerolinecolor\": \"white\", \"zerolinewidth\": 2}}}, \"width\": 600},                        {\"responsive\": true}                    ).then(function(){\n",
       "                            \n",
       "var gd = document.getElementById('9703bc01-6005-4c57-8c32-dd0df21fb8f9');\n",
       "var x = new MutationObserver(function (mutations, observer) {{\n",
       "        var display = window.getComputedStyle(gd).display;\n",
       "        if (!display || display === 'none') {{\n",
       "            console.log([gd, 'removed!']);\n",
       "            Plotly.purge(gd);\n",
       "            observer.disconnect();\n",
       "        }}\n",
       "}});\n",
       "\n",
       "// Listen for the removal of the full notebook cells\n",
       "var notebookContainer = gd.closest('#notebook-container');\n",
       "if (notebookContainer) {{\n",
       "    x.observe(notebookContainer, {childList: true});\n",
       "}}\n",
       "\n",
       "// Listen for the clearing of the current output cell\n",
       "var outputEl = gd.closest('.output');\n",
       "if (outputEl) {{\n",
       "    x.observe(outputEl, {childList: true});\n",
       "}}\n",
       "\n",
       "                        })                };                });            </script>        </div>"
      ]
     },
     "metadata": {},
     "output_type": "display_data"
    }
   ],
   "source": [
    "df_london = df_london.sort_values(by=\"Area\", ascending=False)\n",
    "\n",
    "remain = go.Bar(y=df_london[\"Area\"], x=df_london[\"Remain\"], orientation=\"h\", name=\"Remain\")\n",
    "leave = go.Bar(y=df_london[\"Area\"], x=df_london[\"Leave\"], orientation=\"h\", name=\"Leave\")\n",
    "\n",
    "layout = go.Layout(\n",
    "    barmode='group',\n",
    "    width=600,\n",
    "    height=800,\n",
    "    margin=dict(l=150)\n",
    ")\n",
    "\n",
    "fig = go.Figure(data=[remain, leave], layout=layout)\n",
    "iplot(fig, filename='brexit-grouped-bar')"
   ]
  },
  {
   "cell_type": "markdown",
   "metadata": {},
   "source": [
    "We can embed that Ploty chart in our web presentation by using the `plot` function to produce a string containing all the necessary JavaScript, HTML and data. "
   ]
  },
  {
   "cell_type": "code",
   "execution_count": 22,
   "metadata": {},
   "outputs": [],
   "source": [
    "embed_string = plot(fig, output_type='div', include_plotlyjs=\"cdn\")"
   ]
  },
  {
   "cell_type": "markdown",
   "metadata": {},
   "source": [
    "By printing this we get a string which can be cut and pasted into a web-page to produce an on-line chart. It's a good idea to separate the elements of the chart as shown in the module lectures. "
   ]
  },
  {
   "cell_type": "code",
   "execution_count": 23,
   "metadata": {},
   "outputs": [
    {
     "name": "stdout",
     "output_type": "stream",
     "text": [
      "<div>                        <script type=\"text/javascript\">window.PlotlyConfig = {MathJaxConfig: 'local'};</script>\n",
      "        <script src=\"https://cdn.plot.ly/plotly-latest.min.js\"></script>                <div id=\"3fc4c9b7-cdd8-4354-b139-f59e5d29a994\" class=\"plotly-graph-div\" style=\"height:800px; width:600px;\"></div>            <script type=\"text/javascript\">                                    window.PLOTLYENV=window.PLOTLYENV || {};                                    if (document.getElementById(\"3fc4c9b7-cdd8-4354-b139-f59e5d29a994\")) {                    Plotly.newPlot(                        \"3fc4c9b7-cdd8-4354-b139-f59e5d29a994\",                        [{\"name\": \"Remain\", \"orientation\": \"h\", \"type\": \"bar\", \"x\": [53928, 118463, 64156, 73011, 49319, 94293, 75396, 69213, 55328, 63003, 86955, 111584, 52533, 37601, 76420, 58755, 58040, 42201, 64042, 79991, 56188, 83398, 65248, 76425, 90024, 92913, 3312, 71295, 92398, 72523, 47603, 100210, 27750], \"y\": [\"Westminster\", \"Wandsworth\", \"Waltham Forest\", \"Tower Hamlets\", \"Sutton\", \"Southwark\", \"Richmond upon Thames\", \"Redbridge\", \"Newham\", \"Merton\", \"Lewisham\", \"Lambeth\", \"Kingston upon Thames\", \"Kensington and Chelsea\", \"Islington\", \"Hounslow\", \"Hillingdon\", \"Havering\", \"Harrow\", \"Haringey\", \"Hammersmith and Fulham\", \"Hackney\", \"Greenwich\", \"Enfield\", \"Ealing\", \"Croydon\", \"City of London\", \"Camden\", \"Bromley\", \"Brent\", \"Bexley\", \"Barnet\", \"Barking and Dagenham\"]}, {\"name\": \"Leave\", \"orientation\": \"h\", \"type\": \"bar\", \"x\": [24268, 39421, 44395, 35224, 57241, 35209, 33410, 59020, 49371, 37097, 37518, 30340, 32737, 17138, 25180, 56321, 74982, 96885, 53183, 25855, 24054, 22868, 52117, 60481, 59017, 78221, 1087, 23838, 90034, 48881, 80886, 60823, 46130], \"y\": [\"Westminster\", \"Wandsworth\", \"Waltham Forest\", \"Tower Hamlets\", \"Sutton\", \"Southwark\", \"Richmond upon Thames\", \"Redbridge\", \"Newham\", \"Merton\", \"Lewisham\", \"Lambeth\", \"Kingston upon Thames\", \"Kensington and Chelsea\", \"Islington\", \"Hounslow\", \"Hillingdon\", \"Havering\", \"Harrow\", \"Haringey\", \"Hammersmith and Fulham\", \"Hackney\", \"Greenwich\", \"Enfield\", \"Ealing\", \"Croydon\", \"City of London\", \"Camden\", \"Bromley\", \"Brent\", \"Bexley\", \"Barnet\", \"Barking and Dagenham\"]}],                        {\"barmode\": \"group\", \"height\": 800, \"margin\": {\"l\": 150}, \"template\": {\"data\": {\"bar\": [{\"error_x\": {\"color\": \"#2a3f5f\"}, \"error_y\": {\"color\": \"#2a3f5f\"}, \"marker\": {\"line\": {\"color\": \"#E5ECF6\", \"width\": 0.5}}, \"type\": \"bar\"}], \"barpolar\": [{\"marker\": {\"line\": {\"color\": \"#E5ECF6\", \"width\": 0.5}}, \"type\": \"barpolar\"}], \"carpet\": [{\"aaxis\": {\"endlinecolor\": \"#2a3f5f\", \"gridcolor\": \"white\", \"linecolor\": \"white\", \"minorgridcolor\": \"white\", \"startlinecolor\": \"#2a3f5f\"}, \"baxis\": {\"endlinecolor\": \"#2a3f5f\", \"gridcolor\": \"white\", \"linecolor\": \"white\", \"minorgridcolor\": \"white\", \"startlinecolor\": \"#2a3f5f\"}, \"type\": \"carpet\"}], \"choropleth\": [{\"colorbar\": {\"outlinewidth\": 0, \"ticks\": \"\"}, \"type\": \"choropleth\"}], \"contour\": [{\"colorbar\": {\"outlinewidth\": 0, \"ticks\": \"\"}, \"colorscale\": [[0.0, \"#0d0887\"], [0.1111111111111111, \"#46039f\"], [0.2222222222222222, \"#7201a8\"], [0.3333333333333333, \"#9c179e\"], [0.4444444444444444, \"#bd3786\"], [0.5555555555555556, \"#d8576b\"], [0.6666666666666666, \"#ed7953\"], [0.7777777777777778, \"#fb9f3a\"], [0.8888888888888888, \"#fdca26\"], [1.0, \"#f0f921\"]], \"type\": \"contour\"}], \"contourcarpet\": [{\"colorbar\": {\"outlinewidth\": 0, \"ticks\": \"\"}, \"type\": \"contourcarpet\"}], \"heatmap\": [{\"colorbar\": {\"outlinewidth\": 0, \"ticks\": \"\"}, \"colorscale\": [[0.0, \"#0d0887\"], [0.1111111111111111, \"#46039f\"], [0.2222222222222222, \"#7201a8\"], [0.3333333333333333, \"#9c179e\"], [0.4444444444444444, \"#bd3786\"], [0.5555555555555556, \"#d8576b\"], [0.6666666666666666, \"#ed7953\"], [0.7777777777777778, \"#fb9f3a\"], [0.8888888888888888, \"#fdca26\"], [1.0, \"#f0f921\"]], \"type\": \"heatmap\"}], \"heatmapgl\": [{\"colorbar\": {\"outlinewidth\": 0, \"ticks\": \"\"}, \"colorscale\": [[0.0, \"#0d0887\"], [0.1111111111111111, \"#46039f\"], [0.2222222222222222, \"#7201a8\"], [0.3333333333333333, \"#9c179e\"], [0.4444444444444444, \"#bd3786\"], [0.5555555555555556, \"#d8576b\"], [0.6666666666666666, \"#ed7953\"], [0.7777777777777778, \"#fb9f3a\"], [0.8888888888888888, \"#fdca26\"], [1.0, \"#f0f921\"]], \"type\": \"heatmapgl\"}], \"histogram\": [{\"marker\": {\"colorbar\": {\"outlinewidth\": 0, \"ticks\": \"\"}}, \"type\": \"histogram\"}], \"histogram2d\": [{\"colorbar\": {\"outlinewidth\": 0, \"ticks\": \"\"}, \"colorscale\": [[0.0, \"#0d0887\"], [0.1111111111111111, \"#46039f\"], [0.2222222222222222, \"#7201a8\"], [0.3333333333333333, \"#9c179e\"], [0.4444444444444444, \"#bd3786\"], [0.5555555555555556, \"#d8576b\"], [0.6666666666666666, \"#ed7953\"], [0.7777777777777778, \"#fb9f3a\"], [0.8888888888888888, \"#fdca26\"], [1.0, \"#f0f921\"]], \"type\": \"histogram2d\"}], \"histogram2dcontour\": [{\"colorbar\": {\"outlinewidth\": 0, \"ticks\": \"\"}, \"colorscale\": [[0.0, \"#0d0887\"], [0.1111111111111111, \"#46039f\"], [0.2222222222222222, \"#7201a8\"], [0.3333333333333333, \"#9c179e\"], [0.4444444444444444, \"#bd3786\"], [0.5555555555555556, \"#d8576b\"], [0.6666666666666666, \"#ed7953\"], [0.7777777777777778, \"#fb9f3a\"], [0.8888888888888888, \"#fdca26\"], [1.0, \"#f0f921\"]], \"type\": \"histogram2dcontour\"}], \"mesh3d\": [{\"colorbar\": {\"outlinewidth\": 0, \"ticks\": \"\"}, \"type\": \"mesh3d\"}], \"parcoords\": [{\"line\": {\"colorbar\": {\"outlinewidth\": 0, \"ticks\": \"\"}}, \"type\": \"parcoords\"}], \"pie\": [{\"automargin\": true, \"type\": \"pie\"}], \"scatter\": [{\"marker\": {\"colorbar\": {\"outlinewidth\": 0, \"ticks\": \"\"}}, \"type\": \"scatter\"}], \"scatter3d\": [{\"line\": {\"colorbar\": {\"outlinewidth\": 0, \"ticks\": \"\"}}, \"marker\": {\"colorbar\": {\"outlinewidth\": 0, \"ticks\": \"\"}}, \"type\": \"scatter3d\"}], \"scattercarpet\": [{\"marker\": {\"colorbar\": {\"outlinewidth\": 0, \"ticks\": \"\"}}, \"type\": \"scattercarpet\"}], \"scattergeo\": [{\"marker\": {\"colorbar\": {\"outlinewidth\": 0, \"ticks\": \"\"}}, \"type\": \"scattergeo\"}], \"scattergl\": [{\"marker\": {\"colorbar\": {\"outlinewidth\": 0, \"ticks\": \"\"}}, \"type\": \"scattergl\"}], \"scattermapbox\": [{\"marker\": {\"colorbar\": {\"outlinewidth\": 0, \"ticks\": \"\"}}, \"type\": \"scattermapbox\"}], \"scatterpolar\": [{\"marker\": {\"colorbar\": {\"outlinewidth\": 0, \"ticks\": \"\"}}, \"type\": \"scatterpolar\"}], \"scatterpolargl\": [{\"marker\": {\"colorbar\": {\"outlinewidth\": 0, \"ticks\": \"\"}}, \"type\": \"scatterpolargl\"}], \"scatterternary\": [{\"marker\": {\"colorbar\": {\"outlinewidth\": 0, \"ticks\": \"\"}}, \"type\": \"scatterternary\"}], \"surface\": [{\"colorbar\": {\"outlinewidth\": 0, \"ticks\": \"\"}, \"colorscale\": [[0.0, \"#0d0887\"], [0.1111111111111111, \"#46039f\"], [0.2222222222222222, \"#7201a8\"], [0.3333333333333333, \"#9c179e\"], [0.4444444444444444, \"#bd3786\"], [0.5555555555555556, \"#d8576b\"], [0.6666666666666666, \"#ed7953\"], [0.7777777777777778, \"#fb9f3a\"], [0.8888888888888888, \"#fdca26\"], [1.0, \"#f0f921\"]], \"type\": \"surface\"}], \"table\": [{\"cells\": {\"fill\": {\"color\": \"#EBF0F8\"}, \"line\": {\"color\": \"white\"}}, \"header\": {\"fill\": {\"color\": \"#C8D4E3\"}, \"line\": {\"color\": \"white\"}}, \"type\": \"table\"}]}, \"layout\": {\"annotationdefaults\": {\"arrowcolor\": \"#2a3f5f\", \"arrowhead\": 0, \"arrowwidth\": 1}, \"autotypenumbers\": \"strict\", \"coloraxis\": {\"colorbar\": {\"outlinewidth\": 0, \"ticks\": \"\"}}, \"colorscale\": {\"diverging\": [[0, \"#8e0152\"], [0.1, \"#c51b7d\"], [0.2, \"#de77ae\"], [0.3, \"#f1b6da\"], [0.4, \"#fde0ef\"], [0.5, \"#f7f7f7\"], [0.6, \"#e6f5d0\"], [0.7, \"#b8e186\"], [0.8, \"#7fbc41\"], [0.9, \"#4d9221\"], [1, \"#276419\"]], \"sequential\": [[0.0, \"#0d0887\"], [0.1111111111111111, \"#46039f\"], [0.2222222222222222, \"#7201a8\"], [0.3333333333333333, \"#9c179e\"], [0.4444444444444444, \"#bd3786\"], [0.5555555555555556, \"#d8576b\"], [0.6666666666666666, \"#ed7953\"], [0.7777777777777778, \"#fb9f3a\"], [0.8888888888888888, \"#fdca26\"], [1.0, \"#f0f921\"]], \"sequentialminus\": [[0.0, \"#0d0887\"], [0.1111111111111111, \"#46039f\"], [0.2222222222222222, \"#7201a8\"], [0.3333333333333333, \"#9c179e\"], [0.4444444444444444, \"#bd3786\"], [0.5555555555555556, \"#d8576b\"], [0.6666666666666666, \"#ed7953\"], [0.7777777777777778, \"#fb9f3a\"], [0.8888888888888888, \"#fdca26\"], [1.0, \"#f0f921\"]]}, \"colorway\": [\"#636efa\", \"#EF553B\", \"#00cc96\", \"#ab63fa\", \"#FFA15A\", \"#19d3f3\", \"#FF6692\", \"#B6E880\", \"#FF97FF\", \"#FECB52\"], \"font\": {\"color\": \"#2a3f5f\"}, \"geo\": {\"bgcolor\": \"white\", \"lakecolor\": \"white\", \"landcolor\": \"#E5ECF6\", \"showlakes\": true, \"showland\": true, \"subunitcolor\": \"white\"}, \"hoverlabel\": {\"align\": \"left\"}, \"hovermode\": \"closest\", \"mapbox\": {\"style\": \"light\"}, \"paper_bgcolor\": \"white\", \"plot_bgcolor\": \"#E5ECF6\", \"polar\": {\"angularaxis\": {\"gridcolor\": \"white\", \"linecolor\": \"white\", \"ticks\": \"\"}, \"bgcolor\": \"#E5ECF6\", \"radialaxis\": {\"gridcolor\": \"white\", \"linecolor\": \"white\", \"ticks\": \"\"}}, \"scene\": {\"xaxis\": {\"backgroundcolor\": \"#E5ECF6\", \"gridcolor\": \"white\", \"gridwidth\": 2, \"linecolor\": \"white\", \"showbackground\": true, \"ticks\": \"\", \"zerolinecolor\": \"white\"}, \"yaxis\": {\"backgroundcolor\": \"#E5ECF6\", \"gridcolor\": \"white\", \"gridwidth\": 2, \"linecolor\": \"white\", \"showbackground\": true, \"ticks\": \"\", \"zerolinecolor\": \"white\"}, \"zaxis\": {\"backgroundcolor\": \"#E5ECF6\", \"gridcolor\": \"white\", \"gridwidth\": 2, \"linecolor\": \"white\", \"showbackground\": true, \"ticks\": \"\", \"zerolinecolor\": \"white\"}}, \"shapedefaults\": {\"line\": {\"color\": \"#2a3f5f\"}}, \"ternary\": {\"aaxis\": {\"gridcolor\": \"white\", \"linecolor\": \"white\", \"ticks\": \"\"}, \"baxis\": {\"gridcolor\": \"white\", \"linecolor\": \"white\", \"ticks\": \"\"}, \"bgcolor\": \"#E5ECF6\", \"caxis\": {\"gridcolor\": \"white\", \"linecolor\": \"white\", \"ticks\": \"\"}}, \"title\": {\"x\": 0.05}, \"xaxis\": {\"automargin\": true, \"gridcolor\": \"white\", \"linecolor\": \"white\", \"ticks\": \"\", \"title\": {\"standoff\": 15}, \"zerolinecolor\": \"white\", \"zerolinewidth\": 2}, \"yaxis\": {\"automargin\": true, \"gridcolor\": \"white\", \"linecolor\": \"white\", \"ticks\": \"\", \"title\": {\"standoff\": 15}, \"zerolinecolor\": \"white\", \"zerolinewidth\": 2}}}, \"width\": 600},                        {\"responsive\": true}                    )                };                            </script>        </div>\n"
     ]
    }
   ],
   "source": [
    "print(embed_string)"
   ]
  },
  {
   "cell_type": "markdown",
   "metadata": {},
   "source": [
    "## Conclusion <a class=\"anchor\" id=\"conclusion\"></a>\n",
    "\n",
    "A short conclusion explaining such things as:\n",
    "\n",
    "- How the presentation was developed, which stories were discovered.\n",
    "- What you had to do to tame the data.\n",
    "- Any surprises you discovered in the dataset etc. \n",
    "- The central story you were able to tell."
   ]
  }
 ],
 "metadata": {
  "kernelspec": {
   "display_name": "Python 3 (ipykernel)",
   "language": "python",
   "name": "python3"
  },
  "language_info": {
   "codemirror_mode": {
    "name": "ipython",
    "version": 3
   },
   "file_extension": ".py",
   "mimetype": "text/x-python",
   "name": "python",
   "nbconvert_exporter": "python",
   "pygments_lexer": "ipython3",
   "version": "3.10.12"
  }
 },
 "nbformat": 4,
 "nbformat_minor": 4
}
