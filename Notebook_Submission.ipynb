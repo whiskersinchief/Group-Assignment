{
 "cells": [
  {
   "cell_type": "markdown",
   "metadata": {},
   "source": [
    "## **MSIN0167 Data Visualization 24/25**\n",
    " \n",
    "\n",
    "\n",
    "# **Visualizing Power Generation: A Comparative Analysis of Power Plants in US and China**\n",
    "\n",
    "\n",
    "#### **Group:** Team D \n",
    "##### **Members:** Areeb Hussain (24203188), Edward George Derek Seddon (24197319), Jiurong Li (24106349), Thomas Ramokgopa (24204720)\n",
    "\n",
    "\n",
    "\n",
    "## **Table of Contents:**\n",
    "#### 1. [Introduction](#introduction)\n",
    "#### 2. [Data Preprocessing & Cleaning](#data-preprocessing-cleaning)\n",
    "#### 3. [Feature Engineering](#feature-engineering)\n",
    "#### 4. [Exploratory Data Analysis](#exploratory-data-analysis)\n",
    "#### 4. [Visualizing The Data](#visualizing-the-data)\n",
    "#### 5. [USA vs. China](#usa-vs-china)\n",
    "#### 6. [Appendices](#appendices)"
   ]
  }
 ],
 "metadata": {
  "language_info": {
   "name": "python"
  }
 },
 "nbformat": 4,
 "nbformat_minor": 2
}
